{
 "cells": [
  {
   "cell_type": "markdown",
   "metadata": {},
   "source": [
    "# Problem Statement"
   ]
  },
  {
   "cell_type": "markdown",
   "metadata": {},
   "source": [
    "We are given a dataset consisting of two csv files train_bodies.csv which contains the set of news articles bodies,while train-stances.csv resembles the articles for each of these bodies being identified using the body id.\n",
    "\n",
    "After training from these samples we need to detect whether the given headline agrees,disagrees,discusses,unrelated with the body id"
   ]
  },
  {
   "cell_type": "markdown",
   "metadata": {},
   "source": [
    "# Importing Libraries"
   ]
  },
  {
   "cell_type": "code",
   "execution_count": 1,
   "metadata": {},
   "outputs": [],
   "source": [
    "import pandas as pd\n",
    "import numpy as np\n",
    "import os\n",
    "from keras.preprocessing.sequence import pad_sequences\n",
    "from keras.preprocessing.text import Tokenizer\n",
    "from keras.utils import to_categorical,plot_model\n",
    "\n",
    "from keras.models import Input,Model,Sequential\n",
    "from keras.layers import LSTM,Embedding,Dropout,Activation,Reshape,Dense,GRU,Add,Flatten,concatenate\n",
    "\n",
    "from keras.preprocessing.text import one_hot\n",
    "from keras.preprocessing.sequence import pad_sequences\n"
   ]
  },
  {
   "cell_type": "markdown",
   "metadata": {},
   "source": [
    "# Dataset Preparation"
   ]
  },
  {
   "cell_type": "code",
   "execution_count": 2,
   "metadata": {},
   "outputs": [],
   "source": [
    "DATASET_PATH = \"/home/abhinav/fake_news_challenge/fake_news_challenge/dataset\"\n",
    "\n",
    "train_bodies = pd.read_csv(os.path.join(DATASET_PATH,'train_bodies.csv'))\n",
    "# train_bodies.head()\n",
    "train_stance = pd.read_csv(os.path.join(DATASET_PATH,'train_stances.csv'))"
   ]
  },
  {
   "cell_type": "code",
   "execution_count": 3,
   "metadata": {},
   "outputs": [],
   "source": [
    "# #Run commented code to combine the two csv file{train_bodies.csv,train_stances.csv} into data_combined.csv file\n",
    "# from tqdm.notebook import tqdm\n",
    "# count=0\n",
    "# for i in tqdm(range(train_stance.shape[0])):\n",
    "#     for j in range(train_bodies.shape[0]):\n",
    "#         if train_bodies.loc[j,'Body ID']==train_stance.loc[i,'Body ID']:\n",
    "#             train_stance.loc[i,'articleBody'] = train_bodies.loc[j,'articleBody']\n",
    "\n",
    "\n",
    "# train_stance.to_csv('data_combined.csv',index=False)"
   ]
  },
  {
   "cell_type": "code",
   "execution_count": 4,
   "metadata": {},
   "outputs": [],
   "source": [
    "data = pd.read_csv('data_combined.csv')#generated from Fake News stanford.ipynb"
   ]
  },
  {
   "cell_type": "code",
   "execution_count": 5,
   "metadata": {
    "scrolled": false
   },
   "outputs": [
    {
     "data": {
      "text/html": [
       "<div>\n",
       "<style scoped>\n",
       "    .dataframe tbody tr th:only-of-type {\n",
       "        vertical-align: middle;\n",
       "    }\n",
       "\n",
       "    .dataframe tbody tr th {\n",
       "        vertical-align: top;\n",
       "    }\n",
       "\n",
       "    .dataframe thead th {\n",
       "        text-align: right;\n",
       "    }\n",
       "</style>\n",
       "<table border=\"1\" class=\"dataframe\">\n",
       "  <thead>\n",
       "    <tr style=\"text-align: right;\">\n",
       "      <th></th>\n",
       "      <th>Headline</th>\n",
       "      <th>Body ID</th>\n",
       "      <th>Stance</th>\n",
       "      <th>articleBody</th>\n",
       "    </tr>\n",
       "  </thead>\n",
       "  <tbody>\n",
       "    <tr>\n",
       "      <th>0</th>\n",
       "      <td>Police find mass graves with at least '15 bodi...</td>\n",
       "      <td>712</td>\n",
       "      <td>unrelated</td>\n",
       "      <td>Danny Boyle is directing the untitled film\\n\\n...</td>\n",
       "    </tr>\n",
       "    <tr>\n",
       "      <th>1</th>\n",
       "      <td>Hundreds of Palestinians flee floods in Gaza a...</td>\n",
       "      <td>158</td>\n",
       "      <td>agree</td>\n",
       "      <td>Hundreds of Palestinians were evacuated from t...</td>\n",
       "    </tr>\n",
       "    <tr>\n",
       "      <th>2</th>\n",
       "      <td>Christian Bale passes on role of Steve Jobs, a...</td>\n",
       "      <td>137</td>\n",
       "      <td>unrelated</td>\n",
       "      <td>30-year-old Moscow resident was hospitalized w...</td>\n",
       "    </tr>\n",
       "    <tr>\n",
       "      <th>3</th>\n",
       "      <td>HBO and Apple in Talks for $15/Month Apple TV ...</td>\n",
       "      <td>1034</td>\n",
       "      <td>unrelated</td>\n",
       "      <td>(Reuters) - A Canadian soldier was shot at the...</td>\n",
       "    </tr>\n",
       "    <tr>\n",
       "      <th>4</th>\n",
       "      <td>Spider burrowed through tourist's stomach and ...</td>\n",
       "      <td>1923</td>\n",
       "      <td>disagree</td>\n",
       "      <td>Fear not arachnophobes, the story of Bunbury's...</td>\n",
       "    </tr>\n",
       "  </tbody>\n",
       "</table>\n",
       "</div>"
      ],
      "text/plain": [
       "                                            Headline  Body ID     Stance  \\\n",
       "0  Police find mass graves with at least '15 bodi...      712  unrelated   \n",
       "1  Hundreds of Palestinians flee floods in Gaza a...      158      agree   \n",
       "2  Christian Bale passes on role of Steve Jobs, a...      137  unrelated   \n",
       "3  HBO and Apple in Talks for $15/Month Apple TV ...     1034  unrelated   \n",
       "4  Spider burrowed through tourist's stomach and ...     1923   disagree   \n",
       "\n",
       "                                         articleBody  \n",
       "0  Danny Boyle is directing the untitled film\\n\\n...  \n",
       "1  Hundreds of Palestinians were evacuated from t...  \n",
       "2  30-year-old Moscow resident was hospitalized w...  \n",
       "3  (Reuters) - A Canadian soldier was shot at the...  \n",
       "4  Fear not arachnophobes, the story of Bunbury's...  "
      ]
     },
     "execution_count": 5,
     "metadata": {},
     "output_type": "execute_result"
    }
   ],
   "source": [
    "data.head()"
   ]
  },
  {
   "cell_type": "code",
   "execution_count": 6,
   "metadata": {},
   "outputs": [
    {
     "data": {
      "text/plain": [
       "unrelated    36545\n",
       "discuss       8909\n",
       "agree         3678\n",
       "disagree       840\n",
       "Name: Stance, dtype: int64"
      ]
     },
     "execution_count": 6,
     "metadata": {},
     "output_type": "execute_result"
    }
   ],
   "source": [
    "data['stance_cat'] = data['Stance'].map({'agree':0,'disagree':1,'discuss':2,'unrelated':3}).astype(int)\n",
    "data['Stance'].value_counts()"
   ]
  },
  {
   "cell_type": "code",
   "execution_count": 7,
   "metadata": {
    "scrolled": true
   },
   "outputs": [
    {
     "name": "stdout",
     "output_type": "stream",
     "text": [
      "99944\n",
      "99944\n",
      "Vocabulary Length is 64510\n"
     ]
    }
   ],
   "source": [
    "corpus = np.r_[data['Headline'].values,data['articleBody'].values]\n",
    "print(49972*2)\n",
    "print(len(corpus)) # first 49972 contains the Headline and next 49972 contains the articleBody\n",
    "\n",
    "vocabulary = []\n",
    "for sentence in corpus:\n",
    "    vocabulary.extend(sentence.split(' '))\n",
    "\n",
    "vocabulary = list(set(vocabulary))\n",
    "vocab_length = len(vocabulary)\n",
    "print(\"Vocabulary Length is {0}\".format(vocab_length))\n"
   ]
  },
  {
   "cell_type": "code",
   "execution_count": 8,
   "metadata": {},
   "outputs": [],
   "source": [
    "max_features = 5000\n",
    "max_nb_words = 24000\n",
    "EMBEDDING_DIM = 50\n",
    "MAX_SEQUENCE_LENGTH_HEADLINE = 64\n",
    "MAX_SEQUENCE_LENGTH_BODY = 64"
   ]
  },
  {
   "cell_type": "markdown",
   "metadata": {},
   "source": [
    "# BASELINE - ONE HOT ENCODING"
   ]
  },
  {
   "cell_type": "code",
   "execution_count": 9,
   "metadata": {},
   "outputs": [],
   "source": [
    "\n",
    "encoded_docs_headline = [one_hot(sentence,vocab_length) for sentence in data.loc[:,'Headline'].tolist()]\n",
    "padded_docs_headline = pad_sequences(encoded_docs_headline,MAX_SEQUENCE_LENGTH_HEADLINE,padding='post')\n",
    "\n",
    "encoded_docs_body = [one_hot(sentence,vocab_length) for sentence in data.loc[:,'articleBody'].tolist()]\n",
    "padded_docs_body = pad_sequences(encoded_docs_body,MAX_SEQUENCE_LENGTH_BODY,padding='post')\n",
    "\n",
    "\n",
    "labels = to_categorical(data.loc[:,'stance_cat'])\n"
   ]
  },
  {
   "cell_type": "code",
   "execution_count": 10,
   "metadata": {},
   "outputs": [],
   "source": [
    "padded_docs_headline_train = padded_docs_headline[:int(len(padded_docs_headline)*0.8),:]\n",
    "padded_docs_headline_test = padded_docs_headline[int(len(padded_docs_headline)*0.8):,:]\n",
    "\n",
    "padded_docs_body_train = padded_docs_body[:int(len(padded_docs_body)*0.8),:]\n",
    "padded_docs_body_test = padded_docs_body[int(len(padded_docs_body)*0.8):,:]\n",
    "\n",
    "labels_train = labels[:int(len(labels)*0.8),:]\n",
    "labels_test = labels[int(len(labels)*0.8):,:]\n"
   ]
  },
  {
   "cell_type": "markdown",
   "metadata": {},
   "source": [
    "# Defining Model Architecture"
   ]
  },
  {
   "cell_type": "code",
   "execution_count": 11,
   "metadata": {},
   "outputs": [],
   "source": [
    "input_headline = Input(shape=[64],name='input_headline')\n",
    "embedding_headline = Embedding(vocab_length,50,input_length = MAX_SEQUENCE_LENGTH_HEADLINE)(input_headline)\n",
    "# dense_headline = Dense(16,activation='relu')(embedding_headline)\n",
    "\n",
    "input_body = Input(shape=[64],name='input_body')\n",
    "embedding_body = Embedding(vocab_length,50,input_length = MAX_SEQUENCE_LENGTH_BODY)(input_body)\n",
    "# dense_body = Dense(16,activation='relu')(embedding_body)\n",
    "\n",
    "addition_layer = concatenate([embedding_headline,embedding_body])\n",
    "lstm = LSTM(units=64)(addition_layer)\n",
    "# drop = Dropout(0.25)(lstm)\n",
    "\n",
    "# flatten = Flatten()(addition_layer)\n",
    "output = Dense(4,activation='sigmoid')(lstm)\n",
    "\n",
    "model_combined = Model(inputs=[input_headline,input_body],outputs=output)\n",
    "\n",
    "model_combined.compile(optimizer = 'adam',loss ='categorical_crossentropy',metrics = ['accuracy'])\n"
   ]
  },
  {
   "cell_type": "markdown",
   "metadata": {},
   "source": [
    "# Model Architecture"
   ]
  },
  {
   "cell_type": "code",
   "execution_count": 12,
   "metadata": {
    "scrolled": true
   },
   "outputs": [
    {
     "name": "stdout",
     "output_type": "stream",
     "text": [
      "Model: \"model\"\n",
      "__________________________________________________________________________________________________\n",
      "Layer (type)                    Output Shape         Param #     Connected to                     \n",
      "==================================================================================================\n",
      "input_headline (InputLayer)     [(None, 64)]         0                                            \n",
      "__________________________________________________________________________________________________\n",
      "input_body (InputLayer)         [(None, 64)]         0                                            \n",
      "__________________________________________________________________________________________________\n",
      "embedding (Embedding)           (None, 64, 50)       3225500     input_headline[0][0]             \n",
      "__________________________________________________________________________________________________\n",
      "embedding_1 (Embedding)         (None, 64, 50)       3225500     input_body[0][0]                 \n",
      "__________________________________________________________________________________________________\n",
      "concatenate (Concatenate)       (None, 64, 100)      0           embedding[0][0]                  \n",
      "                                                                 embedding_1[0][0]                \n",
      "__________________________________________________________________________________________________\n",
      "lstm (LSTM)                     (None, 64)           42240       concatenate[0][0]                \n",
      "__________________________________________________________________________________________________\n",
      "dense (Dense)                   (None, 4)            260         lstm[0][0]                       \n",
      "==================================================================================================\n",
      "Total params: 6,493,500\n",
      "Trainable params: 6,493,500\n",
      "Non-trainable params: 0\n",
      "__________________________________________________________________________________________________\n"
     ]
    }
   ],
   "source": [
    "model_combined.summary()"
   ]
  },
  {
   "cell_type": "code",
   "execution_count": 13,
   "metadata": {},
   "outputs": [
    {
     "data": {
      "image/png": "[encoded data removed]",
      "text/plain": [
       "<IPython.core.display.Image object>"
      ]
     },
     "execution_count": 13,
     "metadata": {},
     "output_type": "execute_result"
    }
   ],
   "source": [
    "plot_model(model_combined, to_file='model_one_hot.png', show_shapes=True, show_layer_names=True)\n"
   ]
  },
  {
   "cell_type": "markdown",
   "metadata": {},
   "source": [
    "# Model Training"
   ]
  },
  {
   "cell_type": "code",
   "execution_count": 14,
   "metadata": {
    "scrolled": false
   },
   "outputs": [
    {
     "name": "stdout",
     "output_type": "stream",
     "text": [
      "Epoch 1/15\n",
      "1250/1250 [==============================] - 82s 64ms/step - loss: 0.7372 - accuracy: 0.7495 - val_loss: 0.5413 - val_accuracy: 0.7983\n",
      "Epoch 2/15\n",
      "1250/1250 [==============================] - 76s 61ms/step - loss: 0.5119 - accuracy: 0.8139 - val_loss: 0.4628 - val_accuracy: 0.8412\n",
      "Epoch 3/15\n",
      "1250/1250 [==============================] - 75s 60ms/step - loss: 0.4267 - accuracy: 0.8523 - val_loss: 0.4050 - val_accuracy: 0.8593\n",
      "Epoch 4/15\n",
      "1250/1250 [==============================] - 74s 59ms/step - loss: 0.3511 - accuracy: 0.8735 - val_loss: 0.3731 - val_accuracy: 0.8683\n",
      "Epoch 5/15\n",
      "1250/1250 [==============================] - 74s 59ms/step - loss: 0.2998 - accuracy: 0.8891 - val_loss: 0.3548 - val_accuracy: 0.8749\n",
      "Epoch 6/15\n",
      "1250/1250 [==============================] - 74s 59ms/step - loss: 0.2525 - accuracy: 0.9073 - val_loss: 0.3255 - val_accuracy: 0.8916\n",
      "Epoch 7/15\n",
      "1250/1250 [==============================] - 72s 58ms/step - loss: 0.2142 - accuracy: 0.9198 - val_loss: 0.3358 - val_accuracy: 0.8805\n",
      "Epoch 8/15\n",
      "1250/1250 [==============================] - 68s 54ms/step - loss: 0.1901 - accuracy: 0.9279 - val_loss: 0.2929 - val_accuracy: 0.9029\n",
      "Epoch 9/15\n",
      "1250/1250 [==============================] - 68s 54ms/step - loss: 0.1619 - accuracy: 0.9399 - val_loss: 0.3244 - val_accuracy: 0.8967\n",
      "Epoch 10/15\n",
      "1250/1250 [==============================] - 67s 53ms/step - loss: 0.1407 - accuracy: 0.9480 - val_loss: 0.2885 - val_accuracy: 0.9053\n",
      "Epoch 11/15\n",
      "1250/1250 [==============================] - 69s 55ms/step - loss: 0.1228 - accuracy: 0.9531 - val_loss: 0.3009 - val_accuracy: 0.9126\n",
      "Epoch 12/15\n",
      "1250/1250 [==============================] - 73s 58ms/step - loss: 0.1067 - accuracy: 0.9593 - val_loss: 0.3090 - val_accuracy: 0.9105\n",
      "Epoch 13/15\n",
      "1250/1250 [==============================] - 77s 62ms/step - loss: 0.0993 - accuracy: 0.9635 - val_loss: 0.2984 - val_accuracy: 0.9111\n",
      "Epoch 14/15\n",
      "1250/1250 [==============================] - 72s 58ms/step - loss: 0.0864 - accuracy: 0.9668 - val_loss: 0.3204 - val_accuracy: 0.9143\n",
      "Epoch 15/15\n",
      "1250/1250 [==============================] - 72s 58ms/step - loss: 0.0848 - accuracy: 0.9673 - val_loss: 0.3119 - val_accuracy: 0.9179\n"
     ]
    },
    {
     "data": {
      "text/plain": [
       "<tensorflow.python.keras.callbacks.History at 0x7fee37e564c0>"
      ]
     },
     "execution_count": 14,
     "metadata": {},
     "output_type": "execute_result"
    }
   ],
   "source": [
    "model_combined.fit([padded_docs_headline_train,padded_docs_body_train],labels_train,epochs=15,verbose=1,validation_data=([padded_docs_headline_test,padded_docs_body_test],labels_test))"
   ]
  },
  {
   "cell_type": "code",
   "execution_count": null,
   "metadata": {},
   "outputs": [],
   "source": []
  }
 ],
 "metadata": {
  "kernelspec": {
   "display_name": "Python 3",
   "language": "python",
   "name": "python3"
  },
  "language_info": {
   "codemirror_mode": {
    "name": "ipython",
    "version": 3
   },
   "file_extension": ".py",
   "mimetype": "text/x-python",
   "name": "python",
   "nbconvert_exporter": "python",
   "pygments_lexer": "ipython3",
   "version": "3.8.5"
  }
 },
 "nbformat": 4,
 "nbformat_minor": 2
}
