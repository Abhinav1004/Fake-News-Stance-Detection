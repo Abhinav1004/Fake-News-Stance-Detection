{
 "cells": [
  {
   "cell_type": "markdown",
   "metadata": {},
   "source": [
    "## Loading the important Libraries"
   ]
  },
  {
   "cell_type": "code",
   "execution_count": 1,
   "metadata": {},
   "outputs": [],
   "source": [
    "import csv\n",
    "import math\n",
    "import matplotlib.pyplot as plt\n",
    "import numpy as np\n",
    "import random\n",
    "import re\n",
    "from collections import defaultdict\n",
    "from data.scorer import score_submission, print_confusion_matrix, score_defaults, SCORE_REPORT\n",
    "from nltk import word_tokenize\n",
    "from nltk.corpus import stopwords\n",
    "from tqdm import tqdm\n",
    "from sklearn.metrics import accuracy_score"
   ]
  },
  {
   "cell_type": "markdown",
   "metadata": {},
   "source": [
    "# Loading the contents"
   ]
  },
  {
   "cell_type": "code",
   "execution_count": 2,
   "metadata": {},
   "outputs": [],
   "source": [
    "f_bodies = open('data/train_bodies.csv', 'r', encoding='utf-8')\n",
    "csv_bodies = csv.DictReader(f_bodies)\n",
    "bodies = []\n",
    "for row in csv_bodies:\n",
    "    body_id = int(row['Body ID'])\n",
    "    if (body_id + 1) > len(bodies):\n",
    "        bodies += [None] * (body_id + 1 - len(bodies))\n",
    "    bodies[body_id] = row['articleBody']\n",
    "f_bodies.close()\n",
    "body_inverse_index = {bodies[i]: i for i in range(len(bodies))}\n",
    "\n",
    "all_unrelated, all_discuss, all_agree, all_disagree = [], [], [], []  # each article = (headline, body, stance)\n",
    "\n",
    "f_stances = open('data/train_stances.csv', 'r', encoding='utf-8')\n",
    "csv_stances = csv.DictReader(f_stances)\n",
    "for row in csv_stances:\n",
    "    body = bodies[int(row['Body ID'])]\n",
    "    if row['Stance'] == 'unrelated':\n",
    "        all_unrelated.append((row['Headline'], body, row['Stance']))\n",
    "    elif row['Stance'] == 'discuss':\n",
    "        all_discuss.append((row['Headline'], body, row['Stance']))\n",
    "    elif row['Stance'] == 'agree':\n",
    "        all_agree.append((row['Headline'], body, row['Stance']))\n",
    "    elif row['Stance'] == 'disagree':\n",
    "        all_disagree.append((row['Headline'], body, row['Stance']))\n",
    "f_stances.close()"
   ]
  },
  {
   "cell_type": "code",
   "execution_count": 3,
   "metadata": {},
   "outputs": [
    {
     "name": "stdout",
     "output_type": "stream",
     "text": [
      "\tUnrltd\tDiscuss\t Agree\tDisagree\n",
      "All\t 36545 \t 8909 \t 3678 \t 840\n",
      "Train\t 365 \t 89 \t 36 \t 8\n",
      "Valid.\t 366 \t 90 \t 37 \t 9\n"
     ]
    }
   ],
   "source": [
    "print('\\tUnrltd\\tDiscuss\\t Agree\\tDisagree')\n",
    "print('All\\t', len(all_unrelated), '\\t', len(all_discuss), '\\t', len(all_agree), '\\t', len(all_disagree))\n",
    "\n",
    "train_unrelated = all_unrelated[:len(all_unrelated) * 9 // 10]\n",
    "train_discuss = all_discuss[:len(all_discuss) * 9 // 10]\n",
    "train_agree = all_agree[:len(all_agree) * 9 // 10]\n",
    "train_disagree = all_disagree[:len(all_disagree) * 9 // 10]\n",
    "\n",
    "\n",
    "val_unrelated = all_unrelated[len(all_unrelated) * 9 // 10:]\n",
    "val_discuss = all_discuss[len(all_discuss) * 9 // 10:]\n",
    "val_agree = all_agree[len(all_agree) * 9 // 10:]\n",
    "val_disagree = all_disagree[len(all_disagree) * 9 // 10:]\n",
    "\n",
    "train_unrelated = all_unrelated[:len(all_unrelated) //100]\n",
    "train_discuss = all_discuss[:len(all_discuss) //100]\n",
    "train_agree = all_agree[:len(all_agree) //100]\n",
    "train_disagree = all_disagree[:len(all_disagree) //100]\n",
    "\n",
    "\n",
    "val_unrelated = all_unrelated[len(all_unrelated) * 9 // 10:]\n",
    "val_discuss = all_discuss[len(all_discuss) * 9 // 10:]\n",
    "val_agree = all_agree[len(all_agree) * 9 // 10:]\n",
    "val_disagree = all_disagree[len(all_disagree) * 9 // 10:]\n",
    "\n",
    "val_unrelated = val_unrelated[len(val_unrelated) * 9 // 10:]\n",
    "val_discuss = val_discuss[len(val_discuss) * 9 // 10:]\n",
    "val_agree = val_agree[len(val_agree) * 9 // 10:]\n",
    "val_disagree = val_disagree[len(val_disagree) * 9 // 10:]\n",
    "\n",
    "\n",
    "\n",
    "print('Train\\t', len(train_unrelated), '\\t', len(train_discuss), '\\t', len(train_agree), '\\t', len(train_disagree))\n",
    "print('Valid.\\t', len(val_unrelated), '\\t', len(val_discuss), '\\t', len(val_agree), '\\t', len(val_disagree))"
   ]
  },
  {
   "cell_type": "markdown",
   "metadata": {},
   "source": [
    "# Uniform distribution of Data"
   ]
  },
  {
   "cell_type": "code",
   "execution_count": 4,
   "metadata": {},
   "outputs": [
    {
     "name": "stdout",
     "output_type": "stream",
     "text": [
      "Train\t 365 \t 89 \t 36 \t 8\n",
      "Valid.\t 366 \t 90 \t 37 \t 9\n",
      "Train (Total) (498, 3) \tValidation (Total) (502, 3)\n",
      "365 \t 89 \t 36 \t 8\n",
      "366 \t 90 \t 37 \t 9\n"
     ]
    }
   ],
   "source": [
    "print('Train\\t', len(train_unrelated), '\\t', len(train_discuss), '\\t', len(train_agree), '\\t', len(train_disagree))\n",
    "print('Valid.\\t', len(val_unrelated), '\\t', len(val_discuss), '\\t', len(val_agree), '\\t', len(val_disagree))\n",
    "train_all = (train_unrelated + train_discuss + train_agree + train_disagree)\n",
    "\n",
    "# each article = (headline, body, stance)\n",
    "random.Random(0).shuffle(train_all)\n",
    "train_all = np.array(train_all)\n",
    "\n",
    "val_all = val_unrelated + val_discuss + val_agree + val_disagree\n",
    "random.Random(0).shuffle(val_all)\n",
    "val_all = np.array(val_all)\n",
    "\n",
    "print('Train (Total)', train_all.shape, '\\tValidation (Total)', val_all.shape)\n",
    "print(np.count_nonzero(train_all[:, 2] == 'unrelated'), '\\t',\n",
    "      np.count_nonzero(train_all[:, 2] == 'discuss'), '\\t',\n",
    "      np.count_nonzero(train_all[:, 2] == 'agree'), '\\t',\n",
    "      np.count_nonzero(train_all[:, 2] == 'disagree'))\n",
    "print(np.count_nonzero(val_all[:, 2] == 'unrelated'), '\\t',\n",
    "      np.count_nonzero(val_all[:, 2] == 'discuss'), '\\t',\n",
    "      np.count_nonzero(val_all[:, 2] == 'agree'), '\\t',\n",
    "      np.count_nonzero(val_all[:, 2] == 'disagree'))"
   ]
  },
  {
   "cell_type": "code",
   "execution_count": 5,
   "metadata": {},
   "outputs": [
    {
     "name": "stdout",
     "output_type": "stream",
     "text": [
      "Microsoft turns to robotic security guards to watch for trouble\n",
      "Tokenized form is ------> ['microsoft', 'turns', 'robotic', 'security', 'guards', 'watch', 'trouble']\n",
      "\n",
      "Luke Somers 'killed in failed rescue attempt in Yemen'\n",
      "Tokenized form is ------> ['luke', 'somers', 'killed', 'failed', 'rescue', 'attempt', 'yemen']\n",
      "\n",
      "Suspected meteorite leaves crater in Managua, is linked to asteroid\n",
      "Tokenized form is ------> ['suspected', 'meteorite', 'leaves', 'crater', 'managua', 'linked', 'asteroid']\n",
      "\n",
      "New Audio Shows Michael Brown Was Shot at 11 Times\n",
      "Tokenized form is ------> ['new', 'audio', 'shows', 'michael', 'brown', 'shot', '11', 'times']\n",
      "\n",
      "Saudi cleric condemns snowmen as anti-Islamic\n",
      "Tokenized form is ------> ['saudi', 'cleric', 'condemns', 'snowmen', 'anti', 'islamic']\n",
      "\n",
      "‘Teletubbies’ Sun Baby: Fans Freak Out Over Jess Smith, 19\n",
      "Tokenized form is ------> ['teletubbies', 'sun', 'baby', 'fans', 'freak', 'jess', 'smith', '19']\n",
      "\n",
      "Former PGA Tour player: Tiger Woods suspended for drug test failure\n",
      "Tokenized form is ------> ['former', 'pga', 'tour', 'player', 'tiger', 'woods', 'suspended', 'drug', 'test', 'failure']\n",
      "\n",
      "Canadian Soldier Shot At Ottawa War Memorial: Report\n",
      "Tokenized form is ------> ['canadian', 'soldier', 'shot', 'ottawa', 'war', 'memorial', 'report']\n",
      "\n",
      "Fidel Castro Dead? Yes, He Is… But The Cuban Leader Is Alive, Death Rumors Proven False\n",
      "Tokenized form is ------> ['fidel', 'castro', 'dead', 'yes', 'cuban', 'leader', 'alive', 'death', 'rumors', 'proven', 'false']\n",
      "\n"
     ]
    }
   ],
   "source": [
    "# Tokenise text\n",
    "pattern = re.compile(\"[^a-zA-Z0-9 ]+\")  # strip punctuation, symbols, etc.\n",
    "stop_words = set(stopwords.words('english'))\n",
    "def tokenise(text):\n",
    "    text = pattern.sub('', text.replace('\\n', ' ').replace('-', ' ').lower())\n",
    "    text = [word for word in word_tokenize(text) if word not in stop_words]\n",
    "    return text\n",
    "\n",
    "for i in range(9):\n",
    "    print(train_all[i, 0]);print('Tokenized form is ------>',tokenise(train_all[i, 0]))\n",
    "    print()"
   ]
  },
  {
   "cell_type": "code",
   "execution_count": 6,
   "metadata": {},
   "outputs": [
    {
     "name": "stdout",
     "output_type": "stream",
     "text": [
      "Microsoft turns to robotic security guards to watch for trouble\n",
      "Term frequency form is -------> defaultdict(<class 'float'>, {'turns': 1.0, 'robotic': 1.0, 'security': 1.0, 'guards': 1.0, 'watch': 1.0, 'trouble': 1.0})\n",
      "\n",
      "Luke Somers 'killed in failed rescue attempt in Yemen'\n",
      "Term frequency form is -------> defaultdict(<class 'float'>, {'somers': 1.0, 'killed': 1.0, 'failed': 1.0, 'rescue': 1.0, 'attempt': 1.0, 'yemen': 1.0})\n",
      "\n",
      "Suspected meteorite leaves crater in Managua, is linked to asteroid\n",
      "Term frequency form is -------> defaultdict(<class 'float'>, {'meteorite': 1.0, 'leaves': 1.0, 'crater': 1.0, 'managua': 1.0, 'linked': 1.0, 'asteroid': 1.0})\n",
      "\n",
      "New Audio Shows Michael Brown Was Shot at 11 Times\n",
      "Term frequency form is -------> defaultdict(<class 'float'>, {'audio': 1.0, 'shows': 1.0, 'michael': 1.0, 'brown': 1.0, 'shot': 1.0, '11': 1.0, 'times': 1.0})\n",
      "\n",
      "Saudi cleric condemns snowmen as anti-Islamic\n",
      "Term frequency form is -------> defaultdict(<class 'float'>, {'cleric': 1.0, 'condemns': 1.0, 'snowmen': 1.0, 'anti': 1.0, 'islamic': 1.0})\n",
      "\n"
     ]
    }
   ],
   "source": [
    "# Compute term-frequency of words in documents\n",
    "def doc_to_tf(text, ngram=1):\n",
    "    words = tokenise(text)\n",
    "    ret = defaultdict(float)\n",
    "    for i in range(len(words)):\n",
    "        for j in range(1, ngram+1):\n",
    "            if i - j < 0:\n",
    "                break\n",
    "            word = [words[i-k] for k in range(j)]\n",
    "            ret[word[0] if ngram == 1 else tuple(word)] += 1.0\n",
    "    return ret\n",
    "    \n",
    "for i in range(5):\n",
    "    print(train_all[i, 0]);print('Term frequency form is ------->',doc_to_tf(train_all[i, 0]))\n",
    "    print()\n"
   ]
  },
  {
   "cell_type": "code",
   "execution_count": 7,
   "metadata": {},
   "outputs": [
    {
     "name": "stdout",
     "output_type": "stream",
     "text": [
      "Microsoft turns to robotic security guards to watch for trouble\n",
      "Term frequency form is -------> defaultdict(<class 'float'>, {('turns',): 1.0, ('robotic',): 1.0, ('robotic', 'turns'): 1.0, ('security',): 1.0, ('security', 'robotic'): 1.0, ('guards',): 1.0, ('guards', 'security'): 1.0, ('watch',): 1.0, ('watch', 'guards'): 1.0, ('trouble',): 1.0, ('trouble', 'watch'): 1.0})\n"
     ]
    }
   ],
   "source": [
    "print(train_all[0, 0]);print('Term frequency form is ------->',doc_to_tf(train_all[0, 0], ngram=2))"
   ]
  },
  {
   "cell_type": "code",
   "execution_count": 8,
   "metadata": {},
   "outputs": [
    {
     "name": "stdout",
     "output_type": "stream",
     "text": [
      "Crews removed a time capsule dating back to 1795 on Thursday from the granite cornerstone of the Massachusetts Statehouse, where historians believe it was originally placed by Revolutionary War luminaries Samuel Adams and Paul Revere among others.\n",
      "\n",
      "The small time capsule is believed to contain items such as old coins, documents, newspapers and a metal plate that was owned by Revere.\n",
      "\n",
      "Secretary of State William Galvin speculated that some of the items could have deteriorated over time.\n",
      "\n",
      "Official plan to X-ray the capsule on Sunday at Boston's Museum of Fine Arts to get some idea of the contents and possibly details on their condition, then open it next week.\n",
      "\n",
      "Scroll down for video\n",
      "\n",
      "Pamela Hatchfield, a conservator at the Boston's Museum of Fine Arts, holds a time capsule she had just removed from the cornerstone of the Statehouse in Boston on Thursday\n",
      "\n",
      "Originally made of cowhide, the time capsule was believed to have been embedded in the cornerstone when construction on the state Capitol began in 1795. Adams was governor of Massachusetts at the time.\n",
      "\n",
      "The time capsule was removed in the mid-19th century and its contents transferred to a copper box, Galvin said. Its removal Thursday was due to an ongoing water filtration project at the building. Galvin said the plan is to return it to the site sometime next year.\n",
      "\n",
      "Pamela Hatchfield, a conservator at the museum, was exhausted Thursday after spending hours chiseling and drilling on the massive cornerstone, taking care not to damage the time capsule or coins that were thrown in the mortar that held it in place.\n",
      "\n",
      "The small time capsule is believed to contain items such as old coins, documents, newspapers and a metal plate that was owned by Revere. Secretary of State William Galvin speculated that some of the items could have deteriorated over time\n",
      "\n",
      "Pamela Hatchfield, a conservator at the Boston's Museum of Fine Arts, holds the time capsule\n",
      "\n",
      "She held up the capsule for viewing by state officials, reporters and contractors involved in the renovation of the Statehouse.\n",
      "\n",
      "'It's heavy,' Hatchfield said. 'I feel happy and relieved and excited and really interested to see what's in this box.'\n",
      "\n",
      "Hatchfield said state officials did not know that the time capsule was embedded in the cornerstone until 60 years after some of the nation's leading founding political figures put it there.\n",
      "\n",
      "'It was first put in there in 1795 by Paul Revere and Sam Adams and was unearthed accidentally when in 1855 there were some amendments to the building,' Hatchfield said. 'They put the contents back into a new box and placed it in a depression in the stone, which is on the underside.'\n",
      "\n",
      "Galvin said there were notes from 1855 indicating that officials washed some of the contents in the capsule with acid before putting them in the new copper box.\n",
      "\n",
      "It also was a humid day when the items were restored and, Galvin said, the corner of the Statehouse where the capsule was fixed has had a water leakage problem for 30 years.\n",
      "\n",
      "Secretary of State William Galvin said the 200-year-old time capsule is believed to contain items such as old coins and newspapers\n",
      "\n",
      "Massachusetts officials work to remove a time capsule in the cornerstone of the Statehouse in Boston\n",
      "\n",
      "State officials did not know that the time capsule was embedded in the cornerstone until 60 years after some of the nation's leading founding political figures put it there\n",
      "\n",
      "The Massachusetts Statehouse is one of the oldest, active statehouses in the country\n",
      "\n",
      "'We have to see what held up since that time,' he said. 'That's the biggest question we have right now — are the contents in good condition or not?'\n",
      "\n",
      "Galvin said the Massachusetts Statehouse is one of the oldest, active statehouses in the country.\n",
      "\n",
      "'Obviously, when we talk about the original box being presided over by then-Gov. Sam Adams, Paul Revere, it's pretty significant,' he said. 'I'm very fond of saying ... that the history of Massachusetts is the history of America, and it's very true and this is another evidence of that.'\n",
      "\n",
      "The excavation came just months after another time capsule was uncovered from the Old State House, which served as the state's first seat of government. That long-forgotten time capsule, dating to 1901, turned up in a lion statue atop the building and, when opened, was found to contain a potpourri of well-preserved items including newspaper clippings, a book on foreign policy and a letter from journalists of the period.\n",
      "Militants with the Islamic State jihadi group have released a video that appears to show the beheading of a British hostage, David Haines, an aid worker who was captured just days after he arrived in Syria last year.\n",
      "\n",
      "British government officials were seeking to authenticate the video which purported to show the final moments of Haines, who was 44.\n",
      "\n",
      "In the video, entitled A Message to the Allies of America, a masked man is shown carrying out the beheading of Haines, whose life had earlier been threatened in a film showing the murder of American journalist Steven Sotloff. The video, which runs to two minutes and 28 seconds, ends with a warning that a second British hostage would be the next to die. He has been named in international media and on social media as Alan Henning, a British aid worker.\n",
      "\n",
      "Haines is the third western hostage and the first Briton to be killed in this fashion by Isis – the first, US journalist James Foley, was murdered in a video released on 19 August.\n",
      "\n",
      "The British prime minister, David Cameron, issued a statement denouncing the killing. “This is a despicable and appalling murder of an innocent aid worker. It is an act of pure evil. My heart goes out to the family of David Haines who have shown extraordinary courage and fortitude throughout this ordeal.\n",
      "\n",
      "“We will do everything in our power to hunt down these murderers and ensure they face justice, however long it takes.”\n",
      "\n",
      "Cameron will gather senior representatives of the military and security services and the Foreign Office and Home Office in Whitehall to discuss the situation.\n",
      "\n",
      "The US president, Barack Obama, also condemned the killing. “The United States strongly condemns the barbaric murder of UK citizen David Haines by the terrorist group Isil,” he said, using his administration’s preferred acronym for Isis. “Our hearts go out to the family of Mr Haines and to the people of the United Kingdom.\n",
      "\n",
      "“The United States stands shoulder to shoulder tonight with our close friend and ally in grief and resolve. We will work with the UK and a broad coalition of nations from the region and around the world to bring the perpetrators of this outrageous act to justice, and to degrade and destroy this threat to the people of our countries, the region and the world.”\n",
      "\n",
      "The recording features a voiceover delivered by an Isis militant, whose voice and accent closely resembles that of the killer in both the Sotloff and Foley videos. The killer directly addresses Cameron, saying that Haines “has to pay the price for your promise” to arm Kurdish peshmerga fighters against Isis.\n",
      "\n",
      "Speaking to the camera, the hostage, composed but clearly under duress, and wearing an orange jumpsuit, reads out a statement in which he says that Cameron is “entirely responsible for my execution” for entering into a coalition with the US.\n",
      "\n",
      "Haines, who was in the Royal Air Force for 12 years before moving into aid work, addresses Cameron, saying: “You entered voluntarily into a coalition with the United States against the Islamic State, just as your predecessor, Tony Blair, did, following a trend amongst our British prime ministers who can’t find the courage to say no to the Americans.\n",
      "\n",
      "“Unfortunately, it is we, the British public, that will in the end pay the price for our parliament’s selfish decisions.”\n",
      "\n",
      "The killer, swathed in black, then makes a statement in which he makes a direct reference to the British government’s aid to Kurdish fighters.\n",
      "\n",
      "He says: “This British man has to pay the price for your promise, Cameron, to arm the peshmerga against the Islamic State. Ironically, he has spent a decade of his life serving under the same Royal Air Force that is responsible for delivering those arms.\n",
      "\n",
      "“Your evil alliance with America which continues to strike the Muslims of Iraq and most recently bombed the Haditha dam will only accelerate your destruction. And playing the role of the obedient lapdog, Cameron, will only drag you and your people into another bloody and unwinnable war.”\n",
      "\n",
      "At the end of the latest video, another hostage, Henning, is paraded.\n",
      "\n",
      "The US carried out at least nine air strikes last week on Isis militants threatening the Haditha dam. The bombing was cited by Haines’s killer in the video.\n",
      "\n",
      "A spokeswoman for the Foreign Office in London said: “We are aware of the video and are working urgently to verify the contents.”\n",
      "\n",
      "Isis had threatened to kill Haines, a father of two, in a video that emerged 11 days ago in which Sotloff was murdered. Less than 24 hours before the latest video emerged, the Haines family had made a plea to the jihadis to respond to their efforts to make contact.\n",
      "\n",
      "The family statement, which was released by the Foreign Office and addressed the militants directly, said: “We are the family of David Haines. We have sent messages to you to which we have not received a reply. We are asking those holding David to make contact with us.”\n",
      "\n",
      "Haines was born in East Yorkshire but raised in Perthshire, and before his capture was living in Croatia with his second wife Dragana.\n",
      "\n",
      "He had a 17-year-old daughter with his first wife Louise, and a four-year-old daughter with Dragana, who has described him as a “fantastic man and father”. He was kidnapped while working for the aid organisation Acted, having previously worked in Libya and South Sudan.\n",
      "\n",
      "A meeting of the British government’s emergency committee, Cobra, is expected to be called imminently and the prime minister’s attentions will be diverted from the referendum on Scottish independence, due to take place on Thursday.\n",
      "\n",
      "Haines had worked for aid agencies in some of the world’s worst trouble spots, including Libya and South Sudan.\n",
      "\n",
      "He was in Libya during its civil war in 2011, working as head of mission for Handicap International, which helps disabled people in poverty and conflict zones around the world.\n"
     ]
    }
   ],
   "source": [
    "# Build corpus of article bodies and headlines in training dataset\n",
    "corpus = np.r_[train_all[:, 1], train_all[:, 0]]  # 0 to 44973 are bodies, 44974 to 89943 are headlines\n",
    "\n",
    "print(corpus[44974//100])\n",
    "print(corpus[0])"
   ]
  },
  {
   "cell_type": "code",
   "execution_count": 9,
   "metadata": {},
   "outputs": [
    {
     "name": "stderr",
     "output_type": "stream",
     "text": [
      "100%|██████████| 996/996 [00:00<00:00, 1023.94it/s]"
     ]
    },
    {
     "name": "stdout",
     "output_type": "stream",
     "text": [
      "[('militants', 73.0), ('islamic', 125.0), ('state', 162.0), ('jihadi', 27.0), ('group', 121.0), ('released', 91.0), ('video', 168.0), ('appears', 67.0), ('show', 81.0), ('beheading', 37.0)]\n"
     ]
    },
    {
     "name": "stderr",
     "output_type": "stream",
     "text": [
      "\n"
     ]
    }
   ],
   "source": [
    "# Learn idf of every word in the corpus\n",
    "df = defaultdict(float)\n",
    "for doc in tqdm(corpus):\n",
    "    words = tokenise(doc)\n",
    "    seen = set()\n",
    "    for word in words:\n",
    "        if word not in seen:\n",
    "            df[word] += 1.0\n",
    "            seen.add(word)\n",
    "\n",
    "print(list(df.items())[:10])"
   ]
  },
  {
   "cell_type": "code",
   "execution_count": 10,
   "metadata": {},
   "outputs": [
    {
     "name": "stderr",
     "output_type": "stream",
     "text": [
      "100%|██████████| 12968/12968 [00:00<00:00, 273015.24it/s]"
     ]
    },
    {
     "name": "stdout",
     "output_type": "stream",
     "text": [
      "[('militants', 3.6006856767576685), ('islamic', 3.0684688630103603), ('state', 2.811000569155076), ('jihadi', 4.572546259786634), ('group', 3.100729725228582), ('released', 3.382962192912798), ('video', 2.7748520550387648), ('appears', 3.6852430647857317), ('show', 3.4980315226975853), ('beheading', 4.267164610235453)]\n"
     ]
    },
    {
     "name": "stderr",
     "output_type": "stream",
     "text": [
      "\n"
     ]
    }
   ],
   "source": [
    "num_docs = corpus.shape[0]\n",
    "idf = defaultdict(float)\n",
    "for word, val in tqdm(df.items()):\n",
    "    idf[word] = np.log((1.0 + num_docs) / (1.0 + val)) + 1.0  # smoothed idf\n",
    "\n",
    "print(list(idf.items())[:10])"
   ]
  },
  {
   "cell_type": "code",
   "execution_count": 11,
   "metadata": {},
   "outputs": [
    {
     "name": "stderr",
     "output_type": "stream",
     "text": [
      "400000it [00:07, 53725.90it/s]"
     ]
    },
    {
     "name": "stdout",
     "output_type": "stream",
     "text": [
      "[-1.2879   -0.14538  -0.016613  1.1387    1.1317    0.20705  -0.47351\n",
      "  0.15898   0.67879   0.2382    0.11621   0.26053  -0.8379    1.1232\n",
      "  0.31469  -0.47904  -0.33717  -0.34492  -0.72053  -1.0543   -0.58476\n",
      " -0.42184  -0.56977  -1.1697   -0.50389  -1.4706   -0.22005   1.1314\n",
      "  1.0829   -1.5477    0.77931  -0.22865   0.33369   0.52067   0.22109\n",
      "  1.1267    0.11704   1.1647    0.5875   -0.079243  0.022386  0.90118\n",
      " -0.37459   0.82637  -0.41061  -0.95039   0.44121  -0.58558   0.12594\n",
      " -0.71778 ]\n"
     ]
    },
    {
     "name": "stderr",
     "output_type": "stream",
     "text": [
      "\n"
     ]
    }
   ],
   "source": [
    "# Load GLoVe word vectors\n",
    "f_glove = open(\"data/glove.6B.50d.txt\", \"rb\")  # download from https://nlp.stanford.edu/projects/glove/\n",
    "glove_vectors = {}\n",
    "for line in tqdm(f_glove):\n",
    "    glove_vectors[str(line.split()[0]).split(\"'\")[1]] = np.array(list(map(float, line.split()[1:])))\n",
    "\n",
    "print(glove_vectors['glove'])"
   ]
  },
  {
   "cell_type": "code",
   "execution_count": 12,
   "metadata": {},
   "outputs": [
    {
     "name": "stdout",
     "output_type": "stream",
     "text": [
      "Microsoft turns to robotic security guards to watch for trouble [ 0.47790114 -0.26356462  0.42278357 -0.16127354  0.32795086 -0.16013121\n",
      " -0.12523431  0.08677343  0.22412232 -0.48682217 -0.04788016  0.05802041\n",
      " -0.34860754  0.67548565 -0.07826219  0.09165369 -0.19808928  0.26399418\n",
      " -0.40019942 -0.46243058  0.04996871  0.54784477 -0.100381   -0.05174086\n",
      "  0.25679119 -1.3353036  -0.0625064   0.05865378  0.43568089 -0.25141575\n",
      "  2.15771538  0.2654065  -0.32139962 -0.34443457  0.00312252  0.61979906\n",
      "  0.02926048 -0.1369583  -0.18728404 -0.19697257 -0.14707441  0.16450667\n",
      "  0.16975282  0.23117808  0.36940231 -0.335339    0.32558284 -0.19607958\n",
      " -0.0598006  -0.06635737]\n",
      "Luke Somers 'killed in failed rescue attempt in Yemen' [ 0.88152154 -0.43893853  0.32753919 -0.22548821  0.06446299  0.12330746\n",
      " -0.50311872  0.59993137  0.38812034 -0.43566448 -0.13720048  0.01199305\n",
      " -0.24538776  0.11605388 -0.10012679  0.01099147  0.23862748 -0.20879648\n",
      " -0.57313285  0.47387832  0.131146    0.43542105  0.21256977 -0.03961459\n",
      "  0.08449428 -1.43142788  0.05896893 -0.40572303  0.20083013  0.14059548\n",
      "  1.67379798  0.12893144 -0.64048542  0.08013589  0.34794375  0.09672616\n",
      " -0.22012123 -0.41573079 -0.05136784 -0.06740352 -0.31252145  0.05201241\n",
      "  0.39187707 -0.46627052  0.21620798 -0.03523162 -0.31132459  0.07208523\n",
      "  0.27134773 -0.35844396]\n"
     ]
    }
   ],
   "source": [
    "# Convert a document to GloVe vectors, by computing tf-idf of each word * GLoVe of word / total tf-idf for document\n",
    "def doc_to_glove(doc):\n",
    "    doc_tf = doc_to_tf(doc)\n",
    "    doc_tf_idf = defaultdict(float)\n",
    "    for word, tf in doc_tf.items():\n",
    "        doc_tf_idf[word] = tf * idf[word]\n",
    "        \n",
    "    doc_vector = np.zeros(glove_vectors['glove'].shape[0])\n",
    "    if np.sum(list(doc_tf_idf.values())) == 0.0:  # edge case: document is empty\n",
    "        return doc_vector\n",
    "    \n",
    "    for word, tf_idf in doc_tf_idf.items():\n",
    "        if word in glove_vectors:\n",
    "            doc_vector += glove_vectors[word] * tf_idf\n",
    "    doc_vector /= np.sum(list(doc_tf_idf.values()))\n",
    "    return doc_vector\n",
    "\n",
    "for i in range(2):\n",
    "    print(train_all[i, 0], doc_to_glove(train_all[i, 0]))"
   ]
  },
  {
   "cell_type": "code",
   "execution_count": 13,
   "metadata": {},
   "outputs": [
    {
     "name": "stdout",
     "output_type": "stream",
     "text": [
      "0.8137865701733668 unrelated\n",
      "0.7532816326838426 unrelated\n",
      "0.33173190954409465 unrelated\n",
      "0.8352286147270115 unrelated\n",
      "0.37398171565369837 unrelated\n",
      "0.5184086869423955 unrelated\n",
      "0.6554583824710872 unrelated\n",
      "0.6230114553139129 unrelated\n",
      "0.8350342674237599 unrelated\n",
      "0.8136639907989834 discuss\n",
      "0.8837926082858903 ['apple', 'watch', 'launch', 'expected', 'late', 'march'] ['isaac', 'abrak', 'abuja', 'nov', '1', 'reuters', 'man', 'claiming', 'boko', 'haram', 'leader', 'abubakar', 'shekau', 'said', '200', 'girls', 'kidnapped', 'group', 'six', 'months', 'ago', 'married', 'fighters', 'contradicting', 'nigerian', 'government', 'claims', 'would', 'soon', 'freed', 'nigerias', 'military', 'says', 'killed', 'shekau', 'year', 'ago', 'authorities', 'said', 'september', 'also', 'killed', 'imposter', 'posting', 'videos', 'latest', 'recording', 'hard', 'see', 'mans', 'face', 'filmed', 'distance', 'likely', 'raise', 'grave', 'doubts', 'whether', 'talks', 'boko', 'haram', 'faction', 'government', 'neighboring', 'chad', 'secure', 'release', 'girls', 'kidnapped', 'secondary', 'school', 'chibok', 'northeast', 'nigeria', 'april', 'married', 'husbands', 'houses', 'man', 'claiming', 'shekau', 'says', '200', 'chibok', 'girls', 'converted', 'islam', 'confess', 'best', 'religion', 'either', 'parents', 'accept', 'convert', 'die', 'majority', 'kidnapped', 'girls', 'christians', 'man', 'video', 'also', 'denied', 'ceasefire', 'denounced', 'ahmadu', 'says', 'represents', 'boko', 'haram', 'chad', 'says', 'dialoguing', 'discussing', 'anybody', 'talking', 'dont', 'know', 'anybody', 'name', 'danladi', 'meet', 'cut', 'head', 'man', 'video', 'says', 'slaughtering', 'people', 'machetes', 'shooting', 'people', 'guns', 'war', 'want', 'says', 'also', 'holding', 'white', 'man', 'known', 'hostage', 'seized', 'northeast', 'german', 'teacher', 'kidnapped', 'college', 'northeastern', 'city', 'gombe', 'july', 'gunmen', 'widely', 'assumed', 'linked', 'boko', 'haram', 'shekaus', 'denial', 'ceasefire', 'appears', 'supported', 'violence', 'since', 'government', 'announced', 'two', 'weeks', 'ago', 'also', 'raises', 'doubts', 'actual', 'influence', 'ahmadu', 'five', 'year', 'old', 'campaign', 'islamic', 'state', 'boko', 'haram', 'killed', 'thousands', 'whose', 'name', 'means', 'western', 'education', 'sinful', 'become', 'far', 'biggest', 'menace', 'security', 'africas', 'biggest', 'economy', 'top', 'oil', 'producer', 'fighters', 'attacked', 'targets', 'almost', 'every', 'day', 'weeks', 'last', 'week', 'seized', 'control', 'mubi', 'home', 'town', 'nigerias', 'defense', 'chief', 'air', 'chief', 'marshal', 'alex', 'badeh', 'badeh', 'announced', 'ceasefire', 'robbed', 'banks', 'burned', 'houses', 'hoisted', 'black', 'flag', 'emirs', 'palace', 'killing', 'dozens', 'people', 'forcing', 'thousands', 'flee', 'witnesses', 'mubi', 'said', 'car', 'bomb', 'thought', 'planted', 'boko', 'haram', 'killed', 'least', '10', 'people', 'crowded', 'bus', 'stop', 'gombe', 'friday', 'morning', 'emergency', 'services', 'said', 'government', 'blamed', 'violence', 'boko', 'harams', 'allied', 'criminal', 'networks', 'control', 'also', 'thought', 'several', 'competing', 'factions', 'within', 'group', 'writing', 'tim', 'cocks', 'editing', 'louise', 'ireland']\n"
     ]
    }
   ],
   "source": [
    "# Compute cosine similarity of GLoVe vectors for all headline-body pairs\n",
    "def dot_product(vec1, vec2):\n",
    "    sigma = 0.0\n",
    "    for i in range(vec1.shape[0]):  # assume vec1 and vec2 has same shape\n",
    "        sigma += vec1[i] * vec2[i]\n",
    "    return sigma\n",
    "    \n",
    "def magnitude(vec):\n",
    "    return np.sqrt(np.sum(np.square(vec)))\n",
    "        \n",
    "def cosine_similarity(doc):\n",
    "    headline_vector = doc_to_glove(doc[0])\n",
    "    body_vector = doc_to_glove(doc[1])\n",
    "    \n",
    "    if magnitude(headline_vector) == 0.0 or magnitude(body_vector) == 0.0:  # edge case: document is empty\n",
    "        return 0.0\n",
    "    \n",
    "    return dot_product(headline_vector, body_vector) / (magnitude(headline_vector) * magnitude(body_vector))\n",
    "\n",
    "for i in range(10):\n",
    "    # unrelated should have lower than rest\n",
    "    print(cosine_similarity(train_all[i]), train_all[i, 2])\n",
    "print(cosine_similarity(train_all[27069//100]), tokenise(train_all[27069//100, 0]), tokenise(train_all[2706//100, 1]))  # edge case"
   ]
  },
  {
   "cell_type": "code",
   "execution_count": 14,
   "metadata": {},
   "outputs": [
    {
     "name": "stdout",
     "output_type": "stream",
     "text": [
      "0.6383317660323701 unrelated\n",
      "0.6767952871124875 unrelated\n",
      "1.0724215077130452 unrelated\n",
      "1.5593769535341642 unrelated\n",
      "0.754637816739332 unrelated\n",
      "1.2363935240419615 unrelated\n",
      "1.7195462848456984 unrelated\n",
      "1.2264337627683257 unrelated\n",
      "0.8785284976491649 unrelated\n",
      "0.870858770355915 discuss\n",
      "0.780265616313571 ['apple', 'watch', 'launch', 'expected', 'late', 'march'] ['tim', 'cook', 'unveiled', 'apple', 'watch', 'back', 'september', 'official', 'launch', 'date', 'set', 'oh', 'vague', 'spring', '2015', 'first', 'guess', 'launch', 'date', 'could', 'actually', 'look', 'like', '9to5mac', 'reports', 'apple', 'watch', 'set', 'ship', 'us', 'end', 'march', 'apple', 'store', 'retail', 'training', 'scheduled', 'mid', 'february', 'according', 'report', 'apple', 'sending', 'representatives', 'apple', 'stores', 'apples', 'offices', 'cupertino', 'austin', 'texas', 'learn', 'watch', 'better', 'prepare', 'store', 'employees', 'watch', 'arrives', 'addition', 'report', 'states', 'apple', 'finishing', 'work', 'apple', 'watchs', 'software', 'battery', 'life', 'inductive', 'charging', 'mechanism', 'word', 'every', 'version', 'watch', 'ship', 'march', 'course', 'dates', 'could', 'change', 'get', 'closer', 'launch', 'im', 'imagining', 'rose', 'gold', 'watch', 'edition', 'sitting', 'maybe', 'delicately', 'left', 'wrist', 'basic', 'watch', 'start', '349']\n"
     ]
    }
   ],
   "source": [
    "# Compute the KL-Divergence of language model (LM) representations of the headline and the body\n",
    "def divergence(lm1, lm2):\n",
    "    sigma = 0.0\n",
    "    for i in range(lm1.shape[0]):  # assume lm1 and lm2 has same shape\n",
    "        sigma += lm1[i] * np.log(lm1[i] / lm2[i])\n",
    "    return sigma\n",
    "\n",
    "def kl_divergence(doc, eps=0.1):\n",
    "    # Convert headline and body to 1-gram representations\n",
    "    tf_headline = doc_to_tf(doc[0])\n",
    "    tf_body = doc_to_tf(doc[1])\n",
    "    \n",
    "    # Convert dictionary tf representations to vectors (make sure columns match to the same word)\n",
    "    words = set(tf_headline.keys()).union(set(tf_body.keys()))\n",
    "    vec_headline, vec_body = np.zeros(len(words)), np.zeros(len(words))\n",
    "    i = 0\n",
    "    for word in words:\n",
    "        vec_headline[i] += tf_headline[word]\n",
    "        vec_body[i] = tf_body[word]\n",
    "        i += 1\n",
    "    \n",
    "    # Compute a simple 1-gram language model of headline and body\n",
    "    lm_headline = vec_headline + eps\n",
    "    lm_headline /= np.sum(lm_headline)\n",
    "    lm_body = vec_body + eps\n",
    "    lm_body /= np.sum(lm_body)\n",
    "    \n",
    "    # Return KL-divergence of both language models\n",
    "    return divergence(lm_headline, lm_body)\n",
    "\n",
    "for i in range(10):\n",
    "    # unrelated should have higher than rest\n",
    "    print(kl_divergence(train_all[i]), train_all[i, 2])\n",
    "print(kl_divergence(train_all[27069//100]), tokenise(train_all[27069//100, 0]), tokenise(train_all[27069//100, 1]))  # edge case"
   ]
  },
  {
   "cell_type": "code",
   "execution_count": 15,
   "metadata": {},
   "outputs": [
    {
     "name": "stdout",
     "output_type": "stream",
     "text": [
      "0.1275990374086362 unrelated\n",
      "0.12665421624069553 unrelated\n",
      "0.0 unrelated\n",
      "0.0 unrelated\n",
      "0.11857015285617747 unrelated\n",
      "0.0 unrelated\n",
      "0.0 unrelated\n",
      "0.0 unrelated\n",
      "0.11739876749926238 unrelated\n",
      "0.36227527992391884 discuss\n"
     ]
    }
   ],
   "source": [
    "# Other feature 1\n",
    "def ngram_overlap(doc):\n",
    "    # Returns how many times n-grams (up to 3-gram) that occur in the article's headline occur on the article's body.\n",
    "    tf_headline = doc_to_tf(doc[0], ngram=3)\n",
    "    tf_body = doc_to_tf(doc[1], ngram=3)\n",
    "    matches = 0.0\n",
    "    for words in tf_headline.keys():\n",
    "        if words in tf_body:\n",
    "            matches += tf_body[words]\n",
    "    return np.power((matches / len(tokenise(doc[1]))), 1 / np.e)  # normalise for document length\n",
    "\n",
    "for i in range(10):\n",
    "    # unrelated should have lower than rest\n",
    "    print(ngram_overlap(train_all[i]), train_all[i, 2])"
   ]
  },
  {
   "cell_type": "code",
   "execution_count": 16,
   "metadata": {},
   "outputs": [
    {
     "name": "stderr",
     "output_type": "stream",
     "text": [
      "100%|██████████| 498/498 [00:05<00:00, 99.06it/s] "
     ]
    },
    {
     "name": "stdout",
     "output_type": "stream",
     "text": [
      "[[0.81378657 0.63833177 0.12759904]\n",
      " [0.75328163 0.67679529 0.12665422]\n",
      " [0.33173191 1.07242151 0.        ]\n",
      " [0.83522861 1.55937695 0.        ]\n",
      " [0.37398172 0.75463782 0.11857015]\n",
      " [0.51840869 1.23639352 0.        ]\n",
      " [0.65545838 1.71954628 0.        ]\n",
      " [0.62301146 1.22643376 0.        ]\n",
      " [0.83503427 0.8785285  0.11739877]\n",
      " [0.81366399 0.87085877 0.36227528]]\n"
     ]
    },
    {
     "name": "stderr",
     "output_type": "stream",
     "text": [
      "\n"
     ]
    }
   ],
   "source": [
    "# Define function to convert (headline, body) to feature vectors for each document\n",
    "ftrs = [cosine_similarity, kl_divergence, ngram_overlap]\n",
    "def to_feature_array(doc):\n",
    "    vec = np.array([0.0] * len(ftrs))\n",
    "    for i in range(len(ftrs)):\n",
    "        vec[i] = ftrs[i](doc)\n",
    "    return vec\n",
    "\n",
    "# Initialise X (matrix of feature vectors) for train dataset\n",
    "x_train = np.array([to_feature_array(doc) for doc in tqdm(train_all)])\n",
    "print(x_train[:10])"
   ]
  },
  {
   "cell_type": "code",
   "execution_count": 17,
   "metadata": {},
   "outputs": [
    {
     "name": "stdout",
     "output_type": "stream",
     "text": [
      "[3 3 3 3 3 3 3 3 3 2]\n"
     ]
    }
   ],
   "source": [
    "# Define label <-> int mappings for y\n",
    "label_to_int = {'agree': 0, 'disagree': 1, 'discuss': 2, 'unrelated': 3}\n",
    "int_to_label = ['agree', 'disagree', 'discuss', 'unrelated']\n",
    "\n",
    "# Initialise Y (gold output vector) for train dataset\n",
    "y_train = np.array([label_to_int[i] for i in train_all[:, 2]])\n",
    "print(y_train[:10])"
   ]
  },
  {
   "cell_type": "code",
   "execution_count": 18,
   "metadata": {},
   "outputs": [
    {
     "name": "stdout",
     "output_type": "stream",
     "text": [
      "(array([], dtype=int64), array([], dtype=int64))\n",
      "(array([], dtype=int64), array([], dtype=int64))\n",
      "(498, 3)\n",
      "(498,)\n"
     ]
    }
   ],
   "source": [
    "# Check integrity of X and Y\n",
    "print(np.where(np.isnan(x_train)))\n",
    "print(np.where(np.isfinite(x_train) == False))\n",
    "print(x_train.shape)\n",
    "print(y_train.shape)  # x_train.shape[0] == y_train.shape[0]"
   ]
  },
  {
   "cell_type": "code",
   "execution_count": 19,
   "metadata": {},
   "outputs": [
    {
     "name": "stdout",
     "output_type": "stream",
     "text": [
      "[('g', 'agree'), ('r', 'disagree'), ('b', 'discuss'), ('y', 'unrelated')]\n"
     ]
    },
    {
     "data": {
      "image/png": "[encoded data removed]",
      "text/plain": [
       "<Figure size 432x288 with 1 Axes>"
      ]
     },
     "metadata": {
      "needs_background": "light"
     },
     "output_type": "display_data"
    }
   ],
   "source": [
    "# Plot GLoVe distance vs KL-Divergence on a coloured scatter plot with different colours for each label\n",
    "colours = np.array(['g', 'r', 'b', 'y'])\n",
    "plt.scatter(list(x_train[:, 0]), list(x_train[:, 1]), c=colours[y_train])\n",
    "plt.xlabel('Cosine Similarity of GLoVe vectors')\n",
    "plt.ylabel('KL Divergence of Unigram LMs')\n",
    "print([(colours[i], int_to_label[i]) for i in range(len(int_to_label))])\n",
    "plt.show()"
   ]
  },
  {
   "cell_type": "code",
   "execution_count": 20,
   "metadata": {},
   "outputs": [
    {
     "name": "stderr",
     "output_type": "stream",
     "text": [
      "100%|██████████| 502/502 [00:04<00:00, 108.06it/s]"
     ]
    },
    {
     "name": "stdout",
     "output_type": "stream",
     "text": [
      "[[0.86310587 0.75480564 0.58394829]\n",
      " [0.79668325 0.8055688  0.54654326]\n",
      " [0.59693405 1.55700575 0.        ]\n",
      " [0.81172181 0.51905294 0.40749492]\n",
      " [0.92141186 0.40409695 0.41760117]]\n"
     ]
    },
    {
     "name": "stderr",
     "output_type": "stream",
     "text": [
      "\n"
     ]
    }
   ],
   "source": [
    "# Initialise x (feature vectors) for validation dataset\n",
    "x_val = np.array([to_feature_array(doc) for doc in tqdm(val_all)])\n",
    "print(x_val[:5])"
   ]
  },
  {
   "cell_type": "code",
   "execution_count": 21,
   "metadata": {},
   "outputs": [
    {
     "name": "stdout",
     "output_type": "stream",
     "text": [
      "0.04833333333333334\n"
     ]
    }
   ],
   "source": [
    "# Linear regression model\n",
    "def mse(pred, gold):\n",
    "    sigma = 0.0\n",
    "    for i in range(pred.shape[0]):\n",
    "        sigma += np.square(pred[i] - gold[i])\n",
    "    return sigma / (2 * pred.shape[0])\n",
    "\n",
    "print(mse(np.array([0.0, 0.2, 0.5, 0.5, 0.8, 1.0]), np.array([0, 0, 0, 1, 1, 1])))"
   ]
  },
  {
   "cell_type": "code",
   "execution_count": 22,
   "metadata": {},
   "outputs": [
    {
     "name": "stderr",
     "output_type": "stream",
     "text": [
      "100%|██████████| 100/100 [00:00<00:00, 571.22it/s]"
     ]
    },
    {
     "name": "stdout",
     "output_type": "stream",
     "text": [
      "Final MSE: 0.06366272285209232\n",
      "Model: [ 0.11742236  0.51819049 -0.3084639 ]\n",
      "[]\n",
      "Predicted []\n",
      "Actual []\n"
     ]
    },
    {
     "name": "stderr",
     "output_type": "stream",
     "text": [
      "\n"
     ]
    }
   ],
   "source": [
    "class LinearRegression:\n",
    "    \n",
    "    def __init__(self, lrn_rate, n_iter):\n",
    "        self.lrn_rate = lrn_rate\n",
    "        self.n_iter = n_iter\n",
    "        # self.breakpoints = set([n_iter * i // 10 for i in range(1, 11)])\n",
    "        \n",
    "    def fit(self, X, Y):\n",
    "        # Learn a model y = intercept + x0*t0 + x1*t1 + x2*t2 + ... that minimises MSE. Need to optimise T\n",
    "        # self.intercept = 0.0\n",
    "        self.model = np.zeros(X.shape[1])  # model[0] = t0, model[1] = t1, etc.\n",
    "        for it in tqdm(range(self.n_iter)):\n",
    "            model_Y = self.transform(X)\n",
    "            # Thetas\n",
    "            for col in range(X.shape[1]):\n",
    "                s = 0.0\n",
    "                for row in range(X.shape[0]):\n",
    "                    s += (model_Y[row] - Y[row]) * X[row, col]\n",
    "                self.model[col] -= self.lrn_rate * s / X.shape[0]\n",
    "            # Intercept\n",
    "            # s_int = 0.0\n",
    "            # for row in range(X.shape[0]):\n",
    "            #     s_int += (model_Y[row] - Y[row]) * 1.0\n",
    "            # self.intercept -= self.lrn_rate * s_int / X.shape[0]\n",
    "            # if it + 1 in self.breakpoints:\n",
    "                # print('Iteration', it+1, 'MSE:', mse(model_Y, Y))\n",
    "        print('Final MSE:', mse(model_Y, Y))\n",
    "        # print('Intercept:', self.intercept)\n",
    "        print('Model:', self.model)\n",
    "        \n",
    "    def transform(self, X):\n",
    "        # Returns a float value for each X. (Regression)\n",
    "        Y = np.zeros(X.shape[0])\n",
    "        for row in range(X.shape[0]):\n",
    "            # s = self.intercept\n",
    "            s = 0.0\n",
    "            for col in range(X.shape[1]):\n",
    "                s += self.model[col] * X[row, col]\n",
    "            Y[row] = s\n",
    "        return Y\n",
    "    \n",
    "    def predict(self, X):\n",
    "        # Uses results of transform() for binary classification. For testing only, use OneVAllClassifier for the final run.\n",
    "        Y = self.transform(X)\n",
    "        Y = np.array([(1 if i > 0.5 else 0) for i in Y])\n",
    "        return Y\n",
    "\n",
    "# Test only\n",
    "lr = LinearRegression(lrn_rate=0.1, n_iter=100)\n",
    "lr.fit(x_train[:1000], np.array([(1 if i == 3 else 0) for i in y_train[:1000]]))\n",
    "print(lr.transform(x_train[1000:1020]))\n",
    "print('Predicted', lr.predict(x_train[1000:1020]))\n",
    "print('Actual', np.array([(1 if i == 3 else 0) for i in y_train[1000:1020]]))"
   ]
  },
  {
   "cell_type": "code",
   "execution_count": 23,
   "metadata": {},
   "outputs": [
    {
     "name": "stdout",
     "output_type": "stream",
     "text": [
      "[0.5        0.549834   0.62245933 0.62245933 0.68997448 0.73105858]\n",
      "0.04833333333333334\n",
      "0.3054302439580517\n",
      "0.6039670619612919\n"
     ]
    }
   ],
   "source": [
    "# Logistic regression functions\n",
    "def sigmoid(Y):\n",
    "    return 1 / (1 + np.exp(Y * -1))\n",
    "\n",
    "print(sigmoid(np.array([0.0, 0.2, 0.5, 0.5, 0.8, 1.0])))\n",
    "\n",
    "def logistic_cost(pred, gold):\n",
    "    sigma = 0.0\n",
    "    for i in range(pred.shape[0]):\n",
    "        if gold[i] == 1:  \n",
    "            sigma -= np.log(pred[i])\n",
    "        elif gold[i] == 0:\n",
    "            sigma -= np.log(1 - pred[i])\n",
    "    return sigma / pred.shape[0]\n",
    "\n",
    "print(mse(np.array([0.0, 0.2, 0.5, 0.5, 0.8, 1.0]), np.array([0, 0, 0, 1, 1, 1])))\n",
    "print(logistic_cost(np.array([0.0, 0.2, 0.5, 0.5, 0.8, 1.0]), np.array([0, 0, 0, 1, 1, 1])))\n",
    "print(logistic_cost(sigmoid(np.array([0.0, 0.2, 0.5, 0.5, 0.8, 1.0])), np.array([0, 0, 0, 1, 1, 1])))"
   ]
  },
  {
   "cell_type": "code",
   "execution_count": 24,
   "metadata": {},
   "outputs": [
    {
     "name": "stderr",
     "output_type": "stream",
     "text": [
      "100%|██████████| 100/100 [00:00<00:00, 526.13it/s]"
     ]
    },
    {
     "name": "stdout",
     "output_type": "stream",
     "text": [
      "Final loss: 0.44881802232400525\n",
      "Model: [-0.11733909  1.08285356 -0.53298056]\n",
      "[]\n",
      "Predicted []\n",
      "Actual []\n"
     ]
    },
    {
     "name": "stderr",
     "output_type": "stream",
     "text": [
      "\n"
     ]
    }
   ],
   "source": [
    "# Logistic regression model\n",
    "class LogisticRegression:\n",
    "    \n",
    "    def __init__(self, lrn_rate, n_iter):\n",
    "        self.lrn_rate = lrn_rate\n",
    "        self.n_iter = n_iter\n",
    "        # self.breakpoints = set([n_iter * i // 10 for i in range(1, 11)])\n",
    "        \n",
    "    def fit(self, X, Y):\n",
    "        # Learn a model y = x0*t0 + x1*t1 + x2*t2 + ... that minimises MSE. Need to optimise T\n",
    "        self.model = np.zeros(X.shape[1])  # model[0] = t0, model[1] = t1, etc.\n",
    "        for it in tqdm(range(self.n_iter)):\n",
    "            model_Y = self.transform(X)\n",
    "            for col in range(X.shape[1]):\n",
    "                s = 0.0\n",
    "                for row in range(X.shape[0]):\n",
    "                    s += (model_Y[row] - Y[row]) * X[row, col]\n",
    "                self.model[col] -= self.lrn_rate * s / X.shape[0]\n",
    "            # if it + 1 in self.breakpoints:\n",
    "                # print('Iteration', it+1, 'loss:', logistic_cost(model_Y, Y))\n",
    "        print('Final loss:', logistic_cost(model_Y, Y))\n",
    "        print('Model:', self.model)\n",
    "        \n",
    "    def transform(self, X):\n",
    "        # Returns a float value for each X. (Regression)\n",
    "        Y = np.zeros(X.shape[0])\n",
    "        for row in range(X.shape[0]):\n",
    "            s = 0.0\n",
    "            for col in range(X.shape[1]):\n",
    "                s += self.model[col] * X[row, col]\n",
    "            Y[row] = s\n",
    "        return sigmoid(Y)\n",
    "    \n",
    "    def predict(self, X):\n",
    "        # Uses results of transform() for binary classification. For testing only, use OneVAllClassifier for the final run.\n",
    "        Y = self.transform(X)\n",
    "        Y = np.array([(1 if i > 0.5 else 0) for i in Y])\n",
    "        return Y\n",
    "\n",
    "# Test only\n",
    "lr = LogisticRegression(lrn_rate=0.1, n_iter=100)\n",
    "lr.fit(x_train[:1000], np.array([(1 if i == 3 else 0) for i in y_train[:1000]]))\n",
    "print(lr.transform(x_train[1000:1020]))\n",
    "print('Predicted', lr.predict(x_train[1000:1020]))\n",
    "print('Actual', np.array([(1 if i == 3 else 0) for i in y_train[1000:1020]]))"
   ]
  },
  {
   "cell_type": "code",
   "execution_count": 25,
   "metadata": {},
   "outputs": [
    {
     "name": "stderr",
     "output_type": "stream",
     "text": [
      "100%|██████████| 100/100 [00:00<00:00, 537.80it/s]\n",
      "100%|██████████| 100/100 [00:00<00:00, 580.92it/s]\n",
      " 56%|█████▌    | 56/100 [00:00<00:00, 547.08it/s]"
     ]
    },
    {
     "name": "stdout",
     "output_type": "stream",
     "text": [
      "Final MSE: 0.029829163087022555\n",
      "Model: [ 0.13660122 -0.03730523  0.15806904]\n",
      "agree\n",
      "Final MSE: 0.007701788871269617\n",
      "Model: [ 0.03517284 -0.01240033  0.03503788]\n",
      "disagree\n"
     ]
    },
    {
     "name": "stderr",
     "output_type": "stream",
     "text": [
      "100%|██████████| 100/100 [00:00<00:00, 525.17it/s]\n",
      "100%|██████████| 100/100 [00:00<00:00, 555.26it/s]"
     ]
    },
    {
     "name": "stdout",
     "output_type": "stream",
     "text": [
      "Final MSE: 0.05323395600292336\n",
      "Model: [ 0.34864676 -0.10174794  0.3611176 ]\n",
      "discuss\n",
      "Final MSE: 0.06366272285209232\n",
      "Model: [ 0.11742236  0.51819049 -0.3084639 ]\n",
      "unrelated\n",
      "Predicted []\n",
      "Actual []\n"
     ]
    },
    {
     "name": "stderr",
     "output_type": "stream",
     "text": [
      "\n"
     ]
    }
   ],
   "source": [
    "# To use linear/logistic regression models to classify multiple classes\n",
    "class OneVAllClassifier:\n",
    "    \n",
    "    def __init__(self, regression, **params):\n",
    "        self.regression = regression\n",
    "        self.params = params\n",
    "        \n",
    "    def fit(self, X, Y):\n",
    "        # Learn a model for each parameter.\n",
    "        self.categories = np.unique(Y)\n",
    "        self.models = {}\n",
    "        for cat in self.categories:\n",
    "            ova_Y = np.array([(1 if i == cat else 0) for i in Y])\n",
    "            model = self.regression(**self.params)\n",
    "            model.fit(X, ova_Y)\n",
    "            self.models[cat] = model\n",
    "            print(int_to_label[cat])\n",
    "    \n",
    "    def predict(self, X):\n",
    "        # Predicts each x for each different model learned, and returns the category related to the model with the highest score.\n",
    "        vals = {}\n",
    "        for cat, model in self.models.items():\n",
    "            vals[cat] = model.transform(X)\n",
    "        Y = np.zeros(X.shape[0], dtype=np.int)\n",
    "        for row in range(X.shape[0]):\n",
    "            max_val, max_cat = -math.inf, -math.inf\n",
    "            for cat, val in vals.items():\n",
    "                if val[row] > max_val:\n",
    "                    max_val, max_cat = val[row], cat\n",
    "            Y[row] = max_cat\n",
    "        return Y\n",
    "    \n",
    "# Test only\n",
    "ova = OneVAllClassifier(LinearRegression, lrn_rate=0.1, n_iter=100)\n",
    "ova.fit(x_train[:1000], y_train[:1000])\n",
    "print('Predicted', ova.predict(x_train[1000:1020]))\n",
    "print('Actual', y_train[1000:1020])"
   ]
  },
  {
   "cell_type": "code",
   "execution_count": 26,
   "metadata": {},
   "outputs": [
    {
     "name": "stderr",
     "output_type": "stream",
     "text": [
      "100%|██████████| 1000/1000 [00:01<00:00, 582.93it/s]\n",
      " 11%|█▏        | 114/1000 [00:00<00:01, 568.35it/s]"
     ]
    },
    {
     "name": "stdout",
     "output_type": "stream",
     "text": [
      "Final MSE: 0.02823613585311833\n",
      "Model: [ 0.05582314 -0.02452746  0.45948888]\n",
      "agree\n"
     ]
    },
    {
     "name": "stderr",
     "output_type": "stream",
     "text": [
      "100%|██████████| 1000/1000 [00:01<00:00, 579.26it/s]\n",
      " 12%|█▏        | 118/1000 [00:00<00:01, 562.19it/s]"
     ]
    },
    {
     "name": "stdout",
     "output_type": "stream",
     "text": [
      "Final MSE: 0.007639856495945302\n",
      "Model: [ 0.02685467 -0.0130704   0.08990469]\n",
      "disagree\n"
     ]
    },
    {
     "name": "stderr",
     "output_type": "stream",
     "text": [
      "100%|██████████| 1000/1000 [00:01<00:00, 594.81it/s]\n",
      " 12%|█▏        | 116/1000 [00:00<00:01, 576.94it/s]"
     ]
    },
    {
     "name": "stdout",
     "output_type": "stream",
     "text": [
      "Final MSE: 0.04615207721962885\n",
      "Model: [ 0.22796673 -0.09579306  0.96902959]\n",
      "discuss\n"
     ]
    },
    {
     "name": "stderr",
     "output_type": "stream",
     "text": [
      "100%|██████████| 1000/1000 [00:01<00:00, 598.49it/s]"
     ]
    },
    {
     "name": "stdout",
     "output_type": "stream",
     "text": [
      "Final MSE: 0.0456367451184866\n",
      "Model: [ 0.6096291   0.37603972 -1.37369446]\n",
      "unrelated\n"
     ]
    },
    {
     "name": "stderr",
     "output_type": "stream",
     "text": [
      "\n"
     ]
    }
   ],
   "source": [
    "# Train the linear regression & One-V-All classifier models on the train set\n",
    "clf = OneVAllClassifier(LinearRegression, lrn_rate=0.1, n_iter=1000)\n",
    "clf.fit(x_train, y_train)"
   ]
  },
  {
   "cell_type": "code",
   "execution_count": 27,
   "metadata": {},
   "outputs": [
    {
     "name": "stdout",
     "output_type": "stream",
     "text": [
      "[2 2 3 2 2]\n",
      "['discuss' 'discuss' 'unrelated' 'discuss' 'discuss']\n",
      "['discuss' 'agree' 'unrelated' 'discuss' 'discuss']\n"
     ]
    }
   ],
   "source": [
    "# Predict y for validation set\n",
    "y_pred = clf.predict(x_val)\n",
    "print(y_pred[:5])\n",
    "predicted = np.array([int_to_label[i] for i in y_pred])\n",
    "print(predicted[:5])\n",
    "print(val_all[:, 2][:5])"
   ]
  },
  {
   "cell_type": "code",
   "execution_count": 28,
   "metadata": {},
   "outputs": [],
   "source": [
    "# Prepare validation dataset format for score_submission in scorer.py\n",
    "body_ids = [str(body_inverse_index[body]) for body in val_all[:, 1]]\n",
    "pred_for_cm = np.array([{'Headline': val_all[i, 0], 'Body ID': body_ids[i], 'Stance': predicted[i]} for i in range(len(val_all))])\n",
    "gold_for_cm = np.array([{'Headline': val_all[i, 0], 'Body ID': body_ids[i], 'Stance': val_all[i, 2]} for i in range(len(val_all))])"
   ]
  },
  {
   "cell_type": "code",
   "execution_count": 29,
   "metadata": {},
   "outputs": [
    {
     "name": "stdout",
     "output_type": "stream",
     "text": [
      "CONFUSION MATRIX:\n",
      "-------------------------------------------------------------\n",
      "|           |   agree   | disagree  |  discuss  | unrelated |\n",
      "-------------------------------------------------------------\n",
      "|   agree   |     0     |     0     |    29     |     8     |\n",
      "-------------------------------------------------------------\n",
      "| disagree  |     0     |     0     |     8     |     1     |\n",
      "-------------------------------------------------------------\n",
      "|  discuss  |     0     |     0     |    77     |    13     |\n",
      "-------------------------------------------------------------\n",
      "| unrelated |     0     |     0     |     3     |    363    |\n",
      "-------------------------------------------------------------\n",
      "ACCURACY: 0.876\n",
      "\n",
      "MAX  - the best possible score (100% accuracy)\n",
      "NULL - score as if all predicted stances were unrelated\n",
      "TEST - score based on the provided predictions\n",
      "\n",
      "||    MAX    ||    NULL   ||    TEST   ||\n",
      "||   227.5   ||   91.5    ||   177.0   ||\n",
      "\n"
     ]
    }
   ],
   "source": [
    "# Score using scorer.py (provided in https://github.com/FakeNewsChallenge/fnc-1) on VALIDATION set:\n",
    "test_score, cm = score_submission(gold_for_cm, pred_for_cm)\n",
    "null_score, max_score = score_defaults(gold_for_cm)\n",
    "print_confusion_matrix(cm)\n",
    "print(SCORE_REPORT.format(max_score, null_score, test_score))"
   ]
  },
  {
   "cell_type": "code",
   "execution_count": 30,
   "metadata": {},
   "outputs": [
    {
     "name": "stderr",
     "output_type": "stream",
     "text": [
      "100%|██████████| 1000/1000 [00:01<00:00, 586.96it/s]\n",
      " 12%|█▏        | 115/1000 [00:00<00:01, 575.18it/s]"
     ]
    },
    {
     "name": "stdout",
     "output_type": "stream",
     "text": [
      "Final loss: 0.23117450537426443\n",
      "Model: [-0.54408483 -2.09059431  0.86996037]\n",
      "agree\n"
     ]
    },
    {
     "name": "stderr",
     "output_type": "stream",
     "text": [
      "100%|██████████| 1000/1000 [00:01<00:00, 594.45it/s]\n",
      " 12%|█▏        | 116/1000 [00:00<00:01, 583.08it/s]"
     ]
    },
    {
     "name": "stdout",
     "output_type": "stream",
     "text": [
      "Final loss: 0.07095698868086761\n",
      "Model: [-1.59001281 -2.84971635 -0.22028186]\n",
      "disagree\n"
     ]
    },
    {
     "name": "stderr",
     "output_type": "stream",
     "text": [
      "100%|██████████| 1000/1000 [00:01<00:00, 592.79it/s]\n",
      " 12%|█▏        | 118/1000 [00:00<00:01, 584.11it/s]"
     ]
    },
    {
     "name": "stdout",
     "output_type": "stream",
     "text": [
      "Final loss: 0.31588323711644306\n",
      "Model: [ 0.75187571 -2.25989577  2.23512962]\n",
      "discuss\n"
     ]
    },
    {
     "name": "stderr",
     "output_type": "stream",
     "text": [
      "100%|██████████| 1000/1000 [00:01<00:00, 586.81it/s]\n"
     ]
    },
    {
     "name": "stdout",
     "output_type": "stream",
     "text": [
      "Final loss: 0.27424774857999884\n",
      "Model: [-1.70928736  2.51737516 -3.58069061]\n",
      "unrelated\n",
      "\n",
      "CONFUSION MATRIX:\n",
      "-------------------------------------------------------------\n",
      "|           |   agree   | disagree  |  discuss  | unrelated |\n",
      "-------------------------------------------------------------\n",
      "|   agree   |     0     |     0     |    25     |    12     |\n",
      "-------------------------------------------------------------\n",
      "| disagree  |     0     |     0     |     4     |     5     |\n",
      "-------------------------------------------------------------\n",
      "|  discuss  |     0     |     0     |    60     |    30     |\n",
      "-------------------------------------------------------------\n",
      "| unrelated |     0     |     0     |     1     |    365    |\n",
      "-------------------------------------------------------------\n",
      "ACCURACY: 0.847\n",
      "\n",
      "MAX  - the best possible score (100% accuracy)\n",
      "NULL - score as if all predicted stances were unrelated\n",
      "TEST - score based on the provided predictions\n",
      "\n",
      "||    MAX    ||    NULL   ||    TEST   ||\n",
      "||   227.5   ||   91.5    ||   158.5   ||\n",
      "\n"
     ]
    }
   ],
   "source": [
    "# Predict y for validation set using logistic regression instead of linear regression, and compare results of scorer.py\n",
    "clf_logistic = OneVAllClassifier(LogisticRegression, lrn_rate=0.1, n_iter=1000)\n",
    "clf_logistic.fit(x_train, y_train)\n",
    "\n",
    "y_pred = clf_logistic.predict(x_val)\n",
    "predicted = np.array([int_to_label[i] for i in y_pred])\n",
    "\n",
    "body_ids = [str(body_inverse_index[body]) for body in val_all[:, 1]]\n",
    "pred_for_cm = np.array([{'Headline': val_all[i, 0], 'Body ID': body_ids[i], 'Stance': predicted[i]} for i in range(len(val_all))])\n",
    "gold_for_cm = np.array([{'Headline': val_all[i, 0], 'Body ID': body_ids[i], 'Stance': val_all[i, 2]} for i in range(len(val_all))])\n",
    "\n",
    "test_score, cm = score_submission(gold_for_cm, pred_for_cm)\n",
    "null_score, max_score = score_defaults(gold_for_cm)\n",
    "print()\n",
    "print_confusion_matrix(cm)\n",
    "print(SCORE_REPORT.format(max_score, null_score, test_score))\n",
    "# linear regression performs better, so that model is chosen for the test set"
   ]
  },
  {
   "cell_type": "code",
   "execution_count": 31,
   "metadata": {},
   "outputs": [],
   "source": [
    "# Load test data from CSV\n",
    "f_tbodies = open('data/competition_test_bodies.csv', 'r', encoding='utf-8')\n",
    "csv_tbodies = csv.DictReader(f_tbodies)\n",
    "tbodies = []\n",
    "for row in csv_tbodies:\n",
    "    body_id = int(row['Body ID'])\n",
    "    if (body_id + 1) > len(tbodies):\n",
    "        tbodies += [None] * (body_id + 1 - len(tbodies))\n",
    "    tbodies[body_id] = row['articleBody']\n",
    "f_tbodies.close()\n",
    "tbody_inverse_index = {tbodies[i]: i for i in range(len(tbodies))}\n",
    "\n",
    "test_all = []  # each article = (headline, body, stance)\n",
    "\n",
    "f_tstances = open('data/competition_test_stances.csv', 'r', encoding='utf-8')\n",
    "csv_tstances = csv.DictReader(f_tstances)\n",
    "for row in csv_tstances:\n",
    "    body = tbodies[int(row['Body ID'])]\n",
    "    test_all.append((row['Headline'], body, row['Stance']))\n",
    "f_tstances.close()\n",
    "\n",
    "#test_all = np.array(test_all)  # for some reason gives MemoryError\n",
    "#print(test_all.shape)"
   ]
  },
  {
   "cell_type": "code",
   "execution_count": 32,
   "metadata": {},
   "outputs": [
    {
     "name": "stderr",
     "output_type": "stream",
     "text": [
      "100%|██████████| 25413/25413 [03:45<00:00, 112.61it/s]"
     ]
    },
    {
     "name": "stdout",
     "output_type": "stream",
     "text": [
      "[[0.81500471 1.84940367 0.        ]\n",
      " [0.59411954 1.50340396 0.        ]\n",
      " [0.70338783 1.32746514 0.14596078]\n",
      " [0.5879987  1.17096374 0.        ]\n",
      " [0.80604129 2.1493695  0.        ]]\n"
     ]
    },
    {
     "name": "stderr",
     "output_type": "stream",
     "text": [
      "\n"
     ]
    }
   ],
   "source": [
    "# Initialise x (feature vectors) and y for test dataset\n",
    "x_test = np.array([to_feature_array(doc) for doc in tqdm(test_all)])\n",
    "print(x_test[:5])"
   ]
  },
  {
   "cell_type": "code",
   "execution_count": 33,
   "metadata": {},
   "outputs": [
    {
     "name": "stdout",
     "output_type": "stream",
     "text": [
      "[2 2 3 2 2]\n",
      "['unrelated' 'unrelated' 'unrelated' 'unrelated' 'unrelated']\n"
     ]
    }
   ],
   "source": [
    "# Predict y for test set\n",
    "y_test = clf.predict(x_test)\n",
    "print(y_pred[:5])\n",
    "pred_test = np.array([int_to_label[i] for i in y_test])\n",
    "print(pred_test[:5])"
   ]
  },
  {
   "cell_type": "code",
   "execution_count": 34,
   "metadata": {},
   "outputs": [],
   "source": [
    "# Prepare test dataset format for score_submission in scorer.py\n",
    "test_body_ids = [str(tbody_inverse_index[test_all[i][1]]) for i in range(len(test_all))]\n",
    "test_pred_for_cm = np.array([{'Headline': test_all[i][0], 'Body ID': test_body_ids[i], 'Stance': pred_test[i]} for i in range(len(test_all))])\n",
    "test_gold_for_cm = np.array([{'Headline': test_all[i][0], 'Body ID': test_body_ids[i], 'Stance': test_all[i][2]} for i in range(len(test_all))])"
   ]
  },
  {
   "cell_type": "code",
   "execution_count": 35,
   "metadata": {},
   "outputs": [
    {
     "name": "stdout",
     "output_type": "stream",
     "text": [
      "CONFUSION MATRIX:\n",
      "-------------------------------------------------------------\n",
      "|           |   agree   | disagree  |  discuss  | unrelated |\n",
      "-------------------------------------------------------------\n",
      "|   agree   |     0     |     0     |   1448    |    455    |\n",
      "-------------------------------------------------------------\n",
      "| disagree  |     0     |     0     |    408    |    289    |\n",
      "-------------------------------------------------------------\n",
      "|  discuss  |     0     |     0     |   3313    |   1151    |\n",
      "-------------------------------------------------------------\n",
      "| unrelated |     1     |     0     |    148    |   18200   |\n",
      "-------------------------------------------------------------\n",
      "ACCURACY: 0.847\n",
      "\n",
      "MAX  - the best possible score (100% accuracy)\n",
      "NULL - score as if all predicted stances were unrelated\n",
      "TEST - score based on the provided predictions\n",
      "\n",
      "||    MAX    ||    NULL   ||    TEST   ||\n",
      "|| 11651.25  ||  4587.25  ||  8327.0   ||\n",
      "\n"
     ]
    }
   ],
   "source": [
    "# Score using scorer.py (provided in https://github.com/FakeNewsChallenge/fnc-1) on TEST set:\n",
    "test_score, cm = score_submission(test_gold_for_cm, test_pred_for_cm)\n",
    "null_score, max_score = score_defaults(test_gold_for_cm)\n",
    "print_confusion_matrix(cm)\n",
    "print(SCORE_REPORT.format(max_score, null_score, test_score))"
   ]
  },
  {
   "cell_type": "markdown",
   "metadata": {},
   "source": [
    "## Comparison Models"
   ]
  },
  {
   "cell_type": "code",
   "execution_count": 36,
   "metadata": {},
   "outputs": [],
   "source": [
    "from sklearn.linear_model import LogisticRegression\n",
    "from sklearn.neighbors import KNeighborsClassifier\n",
    "from sklearn.svm import SVC\n",
    "from sklearn.naive_bayes import MultinomialNB\n",
    "from sklearn.linear_model import SGDClassifier   \n",
    "from sklearn.discriminant_analysis import QuadraticDiscriminantAnalysis\n",
    "from sklearn.ensemble import RandomForestClassifier, AdaBoostClassifier\n",
    "import xgboost\n",
    "from sklearn.discriminant_analysis import LinearDiscriminantAnalysis\n",
    "from sklearn.naive_bayes import GaussianNB\n",
    "from sklearn.tree import DecisionTreeClassifier\n",
    "from sklearn.semi_supervised import LabelPropagation\n",
    "\n",
    "classifiers=[\n",
    "    \n",
    "    (LogisticRegression(penalty='l1', dual=False, tol=0.0001, C=100.0, fit_intercept=True,\n",
    "    intercept_scaling=10, class_weight=None, random_state=None, solver='warn', max_iter=10,\n",
    "    multi_class='warn', verbose=0, warm_start=False, n_jobs=None),\"Logistic Regression\"),\n",
    "    \n",
    "    \n",
    "    (KNeighborsClassifier(1),\"K Nearest Classifier \"),\n",
    "    \n",
    "    (SVC(C=50.0, cache_size=200, class_weight=None, coef0=0.0,\n",
    "    decision_function_shape='ovr', degree=3, gamma='auto', kernel='rbf',\n",
    "    max_iter=-1, probability=False, random_state=None, shrinking=True,\n",
    "    tol=0.001, verbose=False),'Support Vector Machine Classifier'),\n",
    "    \n",
    "    (QuadraticDiscriminantAnalysis(),'Qudratic Discriminant Analysis'),\n",
    "    \n",
    "    (RandomForestClassifier(max_depth=50, n_estimators=10, max_features=1),'Random Forest Classifier'),\n",
    "    \n",
    "    (AdaBoostClassifier(base_estimator=None, n_estimators=50, learning_rate=0.01,\n",
    "                        algorithm='SAMME.R', random_state=None),'Adaboost Classifier'),\n",
    "    (SGDClassifier(),'SGD Classifier'),\n",
    "    \n",
    "    (DecisionTreeClassifier(max_depth=5),'Decision Tree Classifier'),\n",
    "    (xgboost.XGBClassifier(learning_rate=0.1),'XG Boost Classifier'),\n",
    "    \n",
    "    (LinearDiscriminantAnalysis(solver='svd', shrinkage=None, priors=None, n_components=None, \n",
    "        store_covariance=False,tol=0.00001),'Linear Discriminant Analysis'),\n",
    "     \n",
    "    (GaussianNB(),'Gaussian Naive Bayes ')\n",
    "]"
   ]
  },
  {
   "cell_type": "code",
   "execution_count": 37,
   "metadata": {},
   "outputs": [
    {
     "name": "stderr",
     "output_type": "stream",
     "text": [
      "/home/abhinav/anaconda3/lib/python3.7/site-packages/sklearn/linear_model/logistic.py:433: FutureWarning: Default solver will be changed to 'lbfgs' in 0.22. Specify a solver to silence this warning.\n",
      "  FutureWarning)\n",
      "/home/abhinav/anaconda3/lib/python3.7/site-packages/sklearn/linear_model/logistic.py:460: FutureWarning: Default multi_class will be changed to 'auto' in 0.22. Specify the multi_class option to silence this warning.\n",
      "  \"this warning.\", FutureWarning)\n",
      "/home/abhinav/anaconda3/lib/python3.7/site-packages/sklearn/svm/base.py:922: ConvergenceWarning: Liblinear failed to converge, increase the number of iterations.\n",
      "  \"the number of iterations.\", ConvergenceWarning)\n"
     ]
    },
    {
     "name": "stdout",
     "output_type": "stream",
     "text": [
      "********************\n",
      "Logistic Regression\n",
      "CONFUSION MATRIX:\n",
      "-------------------------------------------------------------\n",
      "|           |   agree   | disagree  |  discuss  | unrelated |\n",
      "-------------------------------------------------------------\n",
      "|   agree   |     0     |     0     |    33     |     4     |\n",
      "-------------------------------------------------------------\n",
      "| disagree  |     0     |     0     |     8     |     1     |\n",
      "-------------------------------------------------------------\n",
      "|  discuss  |     0     |     0     |    80     |    10     |\n",
      "-------------------------------------------------------------\n",
      "| unrelated |     0     |     0     |     3     |    363    |\n",
      "-------------------------------------------------------------\n",
      "ACCURACY: 0.882\n",
      "********************\n",
      "K Nearest Classifier \n",
      "CONFUSION MATRIX:\n",
      "-------------------------------------------------------------\n",
      "|           |   agree   | disagree  |  discuss  | unrelated |\n",
      "-------------------------------------------------------------\n",
      "|   agree   |     9     |     0     |    23     |     5     |\n",
      "-------------------------------------------------------------\n",
      "| disagree  |     1     |     1     |     6     |     1     |\n",
      "-------------------------------------------------------------\n",
      "|  discuss  |    18     |     3     |    64     |     5     |\n",
      "-------------------------------------------------------------\n",
      "| unrelated |    11     |     0     |    10     |    345    |\n",
      "-------------------------------------------------------------\n",
      "ACCURACY: 0.835\n",
      "********************\n",
      "Support Vector Machine Classifier\n",
      "CONFUSION MATRIX:\n",
      "-------------------------------------------------------------\n",
      "|           |   agree   | disagree  |  discuss  | unrelated |\n",
      "-------------------------------------------------------------\n",
      "|   agree   |     0     |     0     |    33     |     4     |\n",
      "-------------------------------------------------------------\n",
      "| disagree  |     0     |     0     |     7     |     2     |\n",
      "-------------------------------------------------------------\n",
      "|  discuss  |     0     |     0     |    83     |     7     |\n",
      "-------------------------------------------------------------\n",
      "| unrelated |     0     |     0     |     4     |    362    |\n",
      "-------------------------------------------------------------\n",
      "ACCURACY: 0.886\n",
      "********************\n",
      "Qudratic Discriminant Analysis\n",
      "CONFUSION MATRIX:\n",
      "-------------------------------------------------------------\n",
      "|           |   agree   | disagree  |  discuss  | unrelated |\n",
      "-------------------------------------------------------------\n",
      "|   agree   |     1     |     1     |    35     |     0     |\n",
      "-------------------------------------------------------------\n",
      "| disagree  |     0     |     0     |     8     |     1     |\n",
      "-------------------------------------------------------------\n",
      "|  discuss  |     1     |     0     |    86     |     3     |\n",
      "-------------------------------------------------------------\n",
      "| unrelated |     0     |     0     |    12     |    354    |\n",
      "-------------------------------------------------------------\n",
      "ACCURACY: 0.878\n",
      "********************\n",
      "Random Forest Classifier\n",
      "CONFUSION MATRIX:\n",
      "-------------------------------------------------------------\n",
      "|           |   agree   | disagree  |  discuss  | unrelated |\n",
      "-------------------------------------------------------------\n",
      "|   agree   |     2     |     0     |    31     |     4     |\n",
      "-------------------------------------------------------------\n",
      "| disagree  |     1     |     0     |     7     |     1     |\n",
      "-------------------------------------------------------------\n",
      "|  discuss  |    14     |     1     |    69     |     6     |\n",
      "-------------------------------------------------------------\n",
      "| unrelated |     5     |     0     |     6     |    355    |\n",
      "-------------------------------------------------------------\n",
      "ACCURACY: 0.849\n",
      "********************\n",
      "Adaboost Classifier\n",
      "CONFUSION MATRIX:\n",
      "-------------------------------------------------------------\n",
      "|           |   agree   | disagree  |  discuss  | unrelated |\n",
      "-------------------------------------------------------------\n",
      "|   agree   |     0     |     0     |    37     |     0     |\n",
      "-------------------------------------------------------------\n",
      "| disagree  |     0     |     0     |     8     |     1     |\n",
      "-------------------------------------------------------------\n",
      "|  discuss  |     0     |     0     |    85     |     5     |\n",
      "-------------------------------------------------------------\n",
      "| unrelated |     0     |     0     |    14     |    352    |\n",
      "-------------------------------------------------------------\n",
      "ACCURACY: 0.871\n",
      "********************\n",
      "SGD Classifier\n",
      "CONFUSION MATRIX:\n",
      "-------------------------------------------------------------\n",
      "|           |   agree   | disagree  |  discuss  | unrelated |\n",
      "-------------------------------------------------------------\n",
      "|   agree   |     0     |     0     |    29     |     8     |\n",
      "-------------------------------------------------------------\n",
      "| disagree  |     0     |     0     |     7     |     2     |\n",
      "-------------------------------------------------------------\n",
      "|  discuss  |     0     |     0     |    75     |    15     |\n",
      "-------------------------------------------------------------\n",
      "| unrelated |     0     |     0     |     3     |    363    |\n",
      "-------------------------------------------------------------\n",
      "ACCURACY: 0.873\n"
     ]
    },
    {
     "name": "stderr",
     "output_type": "stream",
     "text": [
      "/home/abhinav/anaconda3/lib/python3.7/site-packages/sklearn/linear_model/stochastic_gradient.py:166: FutureWarning: max_iter and tol parameters have been added in SGDClassifier in 0.19. If both are left unset, they default to max_iter=5 and tol=None. If tol is not None, max_iter defaults to max_iter=1000. From 0.21, default max_iter will be 1000, and default tol will be 1e-3.\n",
      "  FutureWarning)\n"
     ]
    },
    {
     "name": "stdout",
     "output_type": "stream",
     "text": [
      "********************\n",
      "Decision Tree Classifier\n",
      "CONFUSION MATRIX:\n",
      "-------------------------------------------------------------\n",
      "|           |   agree   | disagree  |  discuss  | unrelated |\n",
      "-------------------------------------------------------------\n",
      "|   agree   |     3     |     0     |    31     |     3     |\n",
      "-------------------------------------------------------------\n",
      "| disagree  |     1     |     0     |     7     |     1     |\n",
      "-------------------------------------------------------------\n",
      "|  discuss  |     7     |     3     |    75     |     5     |\n",
      "-------------------------------------------------------------\n",
      "| unrelated |     5     |     1     |    10     |    350    |\n",
      "-------------------------------------------------------------\n",
      "ACCURACY: 0.853\n",
      "********************\n",
      "XG Boost Classifier\n",
      "CONFUSION MATRIX:\n",
      "-------------------------------------------------------------\n",
      "|           |   agree   | disagree  |  discuss  | unrelated |\n",
      "-------------------------------------------------------------\n",
      "|   agree   |     4     |     0     |    31     |     2     |\n",
      "-------------------------------------------------------------\n",
      "| disagree  |     0     |     2     |     6     |     1     |\n",
      "-------------------------------------------------------------\n",
      "|  discuss  |     8     |     2     |    75     |     5     |\n",
      "-------------------------------------------------------------\n",
      "| unrelated |     1     |     0     |    13     |    352    |\n",
      "-------------------------------------------------------------\n",
      "ACCURACY: 0.863\n",
      "********************\n",
      "Linear Discriminant Analysis\n",
      "CONFUSION MATRIX:\n",
      "-------------------------------------------------------------\n",
      "|           |   agree   | disagree  |  discuss  | unrelated |\n",
      "-------------------------------------------------------------\n",
      "|   agree   |     1     |     0     |    36     |     0     |\n",
      "-------------------------------------------------------------\n",
      "| disagree  |     0     |     0     |     8     |     1     |\n",
      "-------------------------------------------------------------\n",
      "|  discuss  |     2     |     0     |    83     |     5     |\n",
      "-------------------------------------------------------------\n",
      "| unrelated |     0     |     0     |     6     |    360    |\n",
      "-------------------------------------------------------------\n",
      "ACCURACY: 0.884\n",
      "********************\n",
      "Gaussian Naive Bayes \n",
      "CONFUSION MATRIX:\n",
      "-------------------------------------------------------------\n",
      "|           |   agree   | disagree  |  discuss  | unrelated |\n",
      "-------------------------------------------------------------\n",
      "|   agree   |     0     |     1     |    35     |     1     |\n",
      "-------------------------------------------------------------\n",
      "| disagree  |     1     |     0     |     7     |     1     |\n",
      "-------------------------------------------------------------\n",
      "|  discuss  |     6     |     0     |    82     |     2     |\n",
      "-------------------------------------------------------------\n",
      "| unrelated |     1     |     0     |    13     |    352    |\n",
      "-------------------------------------------------------------\n",
      "ACCURACY: 0.865\n"
     ]
    }
   ],
   "source": [
    "score=[];names=[]\n",
    "\n",
    "for model,name in classifiers:\n",
    "    clf=model.fit(x_train,y_train)\n",
    "    y_pred=clf.predict(x_val)\n",
    "    predicted = np.array([int_to_label[i] for i in y_pred])\n",
    "    body_ids = [str(body_inverse_index[body]) for body in val_all[:, 1]]\n",
    "    pred_for_cm = np.array([{'Headline': val_all[i, 0], 'Body ID': body_ids[i], 'Stance': predicted[i]} for i in range(len(val_all))])\n",
    "    gold_for_cm = np.array([{'Headline': val_all[i, 0], 'Body ID': body_ids[i], 'Stance': val_all[i, 2]} for i in range(len(val_all))])\n",
    "    \n",
    "    test_score, cm = score_submission(gold_for_cm, pred_for_cm)\n",
    "    null_score, max_score = score_defaults(gold_for_cm)\n",
    "    print('*'*20);names.append(name)\n",
    "    print(name)\n",
    "    score.append(print_confusion_matrix(cm));\n",
    "    a=SCORE_REPORT.format(max_score, null_score, test_score)"
   ]
  },
  {
   "cell_type": "code",
   "execution_count": 38,
   "metadata": {},
   "outputs": [
    {
     "name": "stdout",
     "output_type": "stream",
     "text": [
      "[88.24701195219123, 83.46613545816733, 88.64541832669323, 87.84860557768924, 84.86055776892431, 87.05179282868527, 87.25099601593625, 85.2589641434263, 86.25498007968127, 88.44621513944223, 86.45418326693228]\n"
     ]
    }
   ],
   "source": [
    "for i in range(len(score)):\n",
    "    score[i]=score[i]*100\n",
    "print(score)"
   ]
  },
  {
   "cell_type": "code",
   "execution_count": 39,
   "metadata": {},
   "outputs": [
    {
     "data": {
      "image/png": "[encoded data removed]",
      "text/plain": [
       "<Figure size 432x288 with 1 Axes>"
      ]
     },
     "metadata": {
      "needs_background": "light"
     },
     "output_type": "display_data"
    }
   ],
   "source": [
    "names=['LR','KNC','SVC','QDA','RFC','ADC','SGDC','DTC','XGB','LDA','GNB']\n",
    "import seaborn as sns\n",
    "from matplotlib import pyplot as plt\n",
    "fig = plt.figure()\n",
    "ax = fig.add_subplot(111)\n",
    "A = score[:]\n",
    "plt.plot(A)\n",
    "for i, label in enumerate(names):\n",
    "    plt.text(i,A[i], label)\n",
    "plt.show()"
   ]
  },
  {
   "cell_type": "code",
   "execution_count": null,
   "metadata": {},
   "outputs": [],
   "source": []
  },
  {
   "cell_type": "code",
   "execution_count": null,
   "metadata": {},
   "outputs": [],
   "source": []
  }
 ],
 "metadata": {
  "kernelspec": {
   "display_name": "Python 3",
   "language": "python",
   "name": "python3"
  },
  "language_info": {
   "codemirror_mode": {
    "name": "ipython",
    "version": 3
   },
   "file_extension": ".py",
   "mimetype": "text/x-python",
   "name": "python",
   "nbconvert_exporter": "python",
   "pygments_lexer": "ipython3",
   "version": "3.8.5"
  }
 },
 "nbformat": 4,
 "nbformat_minor": 2
}
